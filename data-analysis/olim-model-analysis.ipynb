{
 "cells": [
  {
   "cell_type": "markdown",
   "metadata": {},
   "source": [
    "**!** *Tip: type `shift+enter` OR click the ` >| Run ` button above to exectue a cell*"
   ]
  },
  {
   "cell_type": "markdown",
   "metadata": {
    "slideshow": {
     "slide_type": "skip"
    }
   },
   "source": [
    "### Init"
   ]
  },
  {
   "cell_type": "code",
   "execution_count": 1,
   "metadata": {
    "cell.metadata.init_cell": true,
    "init_cell": true,
    "slideshow": {
     "slide_type": "skip"
    }
   },
   "outputs": [],
   "source": [
    "from models import *\n",
    "from processing import *"
   ]
  },
  {
   "cell_type": "markdown",
   "metadata": {
    "slideshow": {
     "slide_type": "slide"
    }
   },
   "source": [
    "### Setup"
   ]
  },
  {
   "cell_type": "code",
   "execution_count": 2,
   "metadata": {
    "init_cell": true,
    "slideshow": {
     "slide_type": "fragment"
    }
   },
   "outputs": [],
   "source": [
    "coil = Coil(wired_in=Coil.SERIES, current=Coil.DC, mag_Br=1.4)"
   ]
  },
  {
   "cell_type": "code",
   "execution_count": 3,
   "metadata": {
    "init_cell": true,
    "slideshow": {
     "slide_type": "fragment"
    }
   },
   "outputs": [],
   "source": [
    "tube = Tube(OD=21, ID=23, effective_length=150, unit=\"mm\")"
   ]
  },
  {
   "cell_type": "code",
   "execution_count": 4,
   "metadata": {
    "init_cell": true,
    "slideshow": {
     "slide_type": "fragment"
    }
   },
   "outputs": [],
   "source": [
    "p = Process(coil, tube)"
   ]
  },
  {
   "cell_type": "markdown",
   "metadata": {
    "slideshow": {
     "slide_type": "slide"
    }
   },
   "source": [
    "### Exploring Parameters"
   ]
  },
  {
   "cell_type": "markdown",
   "metadata": {
    "slideshow": {
     "slide_type": "subslide"
    }
   },
   "source": [
    "#### wire diameter and coil height"
   ]
  },
  {
   "cell_type": "markdown",
   "metadata": {
    "slideshow": {
     "slide_type": "skip"
    }
   },
   "source": [
    "Explore against one or multiple parameters (ctrl/Command+click, or shift+click)"
   ]
  },
  {
   "cell_type": "code",
   "execution_count": null,
   "metadata": {
    "slideshow": {
     "slide_type": "fragment"
    }
   },
   "outputs": [],
   "source": [
    "p.explore_wire_diameter(resolution=0.001, debug=False)"
   ]
  },
  {
   "cell_type": "markdown",
   "metadata": {
    "slideshow": {
     "slide_type": "subslide"
    }
   },
   "source": [
    "#### After exploring, choose the parameters"
   ]
  },
  {
   "cell_type": "code",
   "execution_count": null,
   "metadata": {
    "slideshow": {
     "slide_type": "fragment"
    }
   },
   "outputs": [],
   "source": [
    "coil.set_wire_d(1.0, unit=\"mm\") \n",
    "coil.set_layer_count(10)  # comment if you want to explore graph\n",
    "coil.mag_Br = 1.5  #  N42 neodynium magnet"
   ]
  },
  {
   "cell_type": "markdown",
   "metadata": {
    "slideshow": {
     "slide_type": "fragment"
    }
   },
   "source": [
    "Once we have explored values for wire diameter and current, \n",
    "we can explore force against extension of plunger and layer height"
   ]
  },
  {
   "cell_type": "markdown",
   "metadata": {
    "slideshow": {
     "slide_type": "slide"
    }
   },
   "source": [
    "### Explore Actuator Force"
   ]
  },
  {
   "cell_type": "code",
   "execution_count": null,
   "metadata": {
    "slideshow": {
     "slide_type": "fragment"
    }
   },
   "outputs": [],
   "source": [
    "p.explore_actuator_force()"
   ]
  },
  {
   "cell_type": "markdown",
   "metadata": {
    "slideshow": {
     "slide_type": "skip"
    }
   },
   "source": [
    "### Playground"
   ]
  },
  {
   "cell_type": "code",
   "execution_count": null,
   "metadata": {
    "slideshow": {
     "slide_type": "skip"
    }
   },
   "outputs": [],
   "source": [
    "coil.set_wire_d(1.0, unit='mm')\n",
    "\n",
    "coil.set_layer_count(14)\n",
    "# OR\n",
    "#  coil.set_layer_height(14.0, unit='mm')\n",
    "#  this will automatically calculate layer count"
   ]
  },
  {
   "cell_type": "markdown",
   "metadata": {
    "slideshow": {
     "slide_type": "skip"
    }
   },
   "source": [
    "Electrical Properties"
   ]
  },
  {
   "cell_type": "code",
   "execution_count": null,
   "metadata": {
    "slideshow": {
     "slide_type": "skip"
    }
   },
   "outputs": [],
   "source": [
    "I, R = coil.get_current(tube), coil.get_resistance(tube); V = I * R\n",
    "p.out(u\"V=%0.2fV \\n\"\n",
    "       \"I=%0.2fA \\n\"\n",
    "       \"R=%0.2f\\u2126 \\n\"\n",
    "       \"P=%0.2fW\" % (V, I, R, V*I))"
   ]
  },
  {
   "cell_type": "markdown",
   "metadata": {
    "slideshow": {
     "slide_type": "skip"
    }
   },
   "source": [
    "Physical Properties"
   ]
  },
  {
   "cell_type": "code",
   "execution_count": null,
   "metadata": {
    "slideshow": {
     "slide_type": "skip"
    }
   },
   "outputs": [],
   "source": [
    "wire_d, coil_m, coil_L = coil.get_wire_d(unit='mm'), \\\n",
    "                         coil.get_coil_mass(tube, unit='kg'), \\\n",
    "                         coil.get_coil_length(tube, unit='m')\n",
    "p.out(\"wire diameter=%.2fmm \\n\"\n",
    "      \"coil mass=%.2fkg \\n\"\n",
    "      \"coil length=%.1fm\"% (wire_d, coil_m, coil_L))"
   ]
  },
  {
   "cell_type": "markdown",
   "metadata": {
    "slideshow": {
     "slide_type": "skip"
    }
   },
   "source": [
    "Force of actuator, represented as the vector (magnitude, direction) in the axis of travel."
   ]
  },
  {
   "cell_type": "code",
   "execution_count": null,
   "metadata": {
    "slideshow": {
     "slide_type": "skip"
    }
   },
   "outputs": [],
   "source": [
    "samples = 11  # how many data points over the stroke of the actuator\n",
    "for z in [(x/(samples-1))*tube.effective_length for x in range(0, samples, 1)]:\n",
    "    print(\"x=%.3fm,\" % z, end=' F=')\n",
    "    coil_layers = 14\n",
    "    Bmag = 1.241  #  N38 Neodydlium magnet\n",
    "#     Bmag = 1.4  #  N42 Neodydlium magnet\n",
    "    Bsol_z = coil.calculate_magnetic_field(tube, coil_layers=coil_layers, z=z)\n",
    "\n",
    "    d = tube.OD + coil_layers*coil.wire_d/2\n",
    "    A = math.pi*pow(d/2 + (tube.OD - tube.ID)/2, 2)\n",
    "    mu = 4.0 * math.pi * pow(10, -7)\n",
    "\n",
    "    f_z = math.sqrt(pow(Bsol_z[0], 2) + pow(Bsol_z[1], 2)) * Bmag * A / mu\n",
    "    print(\"%.3f\" % (math.sqrt(pow(Bsol_z[0], 2) + pow(Bsol_z[1], 2)) * Bmag * A / mu), end=' ')  # resolved\n",
    "    print(\"(%.3f, %.3f)\" % (Bsol_z[0] * Bmag * A / mu, Bsol_z[1] * Bmag * A / mu))  # vector"
   ]
  },
  {
   "cell_type": "code",
   "execution_count": null,
   "metadata": {
    "slideshow": {
     "slide_type": "skip"
    }
   },
   "outputs": [],
   "source": []
  }
 ],
 "metadata": {
  "kernelspec": {
   "display_name": "Python 3",
   "language": "python",
   "name": "python3"
  },
  "language_info": {
   "codemirror_mode": {
    "name": "ipython",
    "version": 3
   },
   "file_extension": ".py",
   "mimetype": "text/x-python",
   "name": "python",
   "nbconvert_exporter": "python",
   "pygments_lexer": "ipython3",
   "version": "3.7.4"
  },
  "toc": {
   "base_numbering": 1,
   "nav_menu": {},
   "number_sections": true,
   "sideBar": true,
   "skip_h1_title": false,
   "title_cell": "Table of Contents",
   "title_sidebar": "Contents",
   "toc_cell": false,
   "toc_position": {
    "height": "calc(100% - 180px)",
    "left": "10px",
    "top": "150px",
    "width": "219px"
   },
   "toc_section_display": true,
   "toc_window_display": false
  }
 },
 "nbformat": 4,
 "nbformat_minor": 2
}
