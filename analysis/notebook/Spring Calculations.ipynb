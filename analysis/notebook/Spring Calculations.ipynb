{
 "cells": [
  {
   "cell_type": "code",
   "execution_count": null,
   "metadata": {},
   "outputs": [],
   "source": [
    "# robot & global params\n",
    "\n",
    "m = 3.5\n",
    "g = 9.81"
   ]
  },
  {
   "cell_type": "code",
   "execution_count": null,
   "metadata": {},
   "outputs": [],
   "source": [
    "# https://catalog.lesjoforsab.com/cs-2x16x145\n",
    "\n",
    "L0 = 145*10**-3\n",
    "Ln = 48*10**-3\n",
    "Fn = 208\n",
    "k = Fn /(L0-Ln)\n",
    "h = (L0-Ln)**2*0.5*k/(m*g)\n",
    "print(\"h = %.3f\" % h)"
   ]
  },
  {
   "cell_type": "code",
   "execution_count": null,
   "metadata": {},
   "outputs": [],
   "source": [
    "# https://catalog.lesjoforsab.com/cs-1-6x16x165\n",
    "\n",
    "L0 = 165*10**-3\n",
    "Ln = 40*10**-3\n",
    "Fn = 110\n",
    "k = Fn /(L0-Ln)\n",
    "h = (L0-Ln)**2*0.5*k/(m*g)\n",
    "print(\"h = %.3f\" % h)"
   ]
  },
  {
   "cell_type": "code",
   "execution_count": null,
   "metadata": {},
   "outputs": [],
   "source": [
    "# https://www.federnshop.com/en/products/compression_springs/d-252a.html\n",
    "\n",
    "L0 = 145*10**-3\n",
    "Ln = 62*10**-3\n",
    "Fn = 155\n",
    "k = Fn /(L0-Ln)\n",
    "h = (L0-Ln)**2*0.5*k/(m*g)\n",
    "print(\"h = %.3f\" % h)"
   ]
  },
  {
   "cell_type": "code",
   "execution_count": null,
   "metadata": {},
   "outputs": [],
   "source": []
  },
  {
   "cell_type": "code",
   "execution_count": null,
   "metadata": {},
   "outputs": [],
   "source": []
  },
  {
   "cell_type": "code",
   "execution_count": null,
   "metadata": {},
   "outputs": [],
   "source": []
  }
 ],
 "metadata": {
  "kernelspec": {
   "display_name": "Python 3",
   "language": "python",
   "name": "python3"
  },
  "language_info": {
   "codemirror_mode": {
    "name": "ipython",
    "version": 3
   },
   "file_extension": ".py",
   "mimetype": "text/x-python",
   "name": "python",
   "nbconvert_exporter": "python",
   "pygments_lexer": "ipython3",
   "version": "3.7.6"
  }
 },
 "nbformat": 4,
 "nbformat_minor": 2
}
