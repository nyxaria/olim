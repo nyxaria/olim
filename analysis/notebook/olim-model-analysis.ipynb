{
 "cells": [
  {
   "cell_type": "markdown",
   "metadata": {},
   "source": [
    "**!** *Tip: type `shift+enter` OR click the ` >| Run ` button above to exectue a cell*"
   ]
  },
  {
   "cell_type": "markdown",
   "metadata": {
    "slideshow": {
     "slide_type": "skip"
    }
   },
   "source": [
    "### Init"
   ]
  },
  {
   "cell_type": "code",
   "execution_count": 5,
   "metadata": {
    "cell.metadata.init_cell": true,
    "init_cell": true,
    "slideshow": {
     "slide_type": "skip"
    }
   },
   "outputs": [],
   "source": [
    "import sys\n",
    "sys.path.append(\"./src\")\n",
    "\n",
    "from models import *\n",
    "from processing import *"
   ]
  },
  {
   "cell_type": "markdown",
   "metadata": {
    "slideshow": {
     "slide_type": "slide"
    }
   },
   "source": [
    "### Setup (change initialization cell)"
   ]
  },
  {
   "cell_type": "markdown",
   "metadata": {},
   "source": [
    "#### OLIM Coil Parameters"
   ]
  },
  {
   "cell_type": "code",
   "execution_count": 6,
   "metadata": {
    "init_cell": true
   },
   "outputs": [],
   "source": [
    "coil = Coil(wired_in=Coil.SERIES, current=Coil.DC, material=Coil.COPPER, wire_geometry=Coil.CIRCLE)\n",
    "tube = Tube(ID=18, OD=21, effective_length=150, unit=\"mm\")"
   ]
  },
  {
   "cell_type": "code",
   "execution_count": 7,
   "metadata": {
    "init_cell": true
   },
   "outputs": [],
   "source": [
    "p = Process(coil, tube)"
   ]
  },
  {
   "cell_type": "markdown",
   "metadata": {
    "slideshow": {
     "slide_type": "slide"
    }
   },
   "source": [
    "### Exploring Parameters"
   ]
  },
  {
   "cell_type": "markdown",
   "metadata": {
    "slideshow": {
     "slide_type": "subslide"
    }
   },
   "source": [
    "#### wire diameter and coil height"
   ]
  },
  {
   "cell_type": "markdown",
   "metadata": {
    "slideshow": {
     "slide_type": "skip"
    }
   },
   "source": [
    "Explore against one or multiple parameters (ctrl/Command+click, or shift+click)"
   ]
  },
  {
   "cell_type": "code",
   "execution_count": 8,
   "metadata": {
    "init_cell": true,
    "slideshow": {
     "slide_type": "fragment"
    }
   },
   "outputs": [
    {
     "data": {
      "application/javascript": [
       "\n",
       "(function(root) {\n",
       "  function now() {\n",
       "    return new Date();\n",
       "  }\n",
       "\n",
       "  var force = true;\n",
       "\n",
       "  if (typeof root._bokeh_onload_callbacks === \"undefined\" || force === true) {\n",
       "    root._bokeh_onload_callbacks = [];\n",
       "    root._bokeh_is_loading = undefined;\n",
       "  }\n",
       "\n",
       "  var JS_MIME_TYPE = 'application/javascript';\n",
       "  var HTML_MIME_TYPE = 'text/html';\n",
       "  var EXEC_MIME_TYPE = 'application/vnd.bokehjs_exec.v0+json';\n",
       "  var CLASS_NAME = 'output_bokeh rendered_html';\n",
       "\n",
       "  /**\n",
       "   * Render data to the DOM node\n",
       "   */\n",
       "  function render(props, node) {\n",
       "    var script = document.createElement(\"script\");\n",
       "    node.appendChild(script);\n",
       "  }\n",
       "\n",
       "  /**\n",
       "   * Handle when an output is cleared or removed\n",
       "   */\n",
       "  function handleClearOutput(event, handle) {\n",
       "    var cell = handle.cell;\n",
       "\n",
       "    var id = cell.output_area._bokeh_element_id;\n",
       "    var server_id = cell.output_area._bokeh_server_id;\n",
       "    // Clean up Bokeh references\n",
       "    if (id != null && id in Bokeh.index) {\n",
       "      Bokeh.index[id].model.document.clear();\n",
       "      delete Bokeh.index[id];\n",
       "    }\n",
       "\n",
       "    if (server_id !== undefined) {\n",
       "      // Clean up Bokeh references\n",
       "      var cmd = \"from bokeh.io.state import curstate; print(curstate().uuid_to_server['\" + server_id + \"'].get_sessions()[0].document.roots[0]._id)\";\n",
       "      cell.notebook.kernel.execute(cmd, {\n",
       "        iopub: {\n",
       "          output: function(msg) {\n",
       "            var id = msg.content.text.trim();\n",
       "            if (id in Bokeh.index) {\n",
       "              Bokeh.index[id].model.document.clear();\n",
       "              delete Bokeh.index[id];\n",
       "            }\n",
       "          }\n",
       "        }\n",
       "      });\n",
       "      // Destroy server and session\n",
       "      var cmd = \"import bokeh.io.notebook as ion; ion.destroy_server('\" + server_id + \"')\";\n",
       "      cell.notebook.kernel.execute(cmd);\n",
       "    }\n",
       "  }\n",
       "\n",
       "  /**\n",
       "   * Handle when a new output is added\n",
       "   */\n",
       "  function handleAddOutput(event, handle) {\n",
       "    var output_area = handle.output_area;\n",
       "    var output = handle.output;\n",
       "\n",
       "    // limit handleAddOutput to display_data with EXEC_MIME_TYPE content only\n",
       "    if ((output.output_type != \"display_data\") || (!output.data.hasOwnProperty(EXEC_MIME_TYPE))) {\n",
       "      return\n",
       "    }\n",
       "\n",
       "    var toinsert = output_area.element.find(\".\" + CLASS_NAME.split(' ')[0]);\n",
       "\n",
       "    if (output.metadata[EXEC_MIME_TYPE][\"id\"] !== undefined) {\n",
       "      toinsert[toinsert.length - 1].firstChild.textContent = output.data[JS_MIME_TYPE];\n",
       "      // store reference to embed id on output_area\n",
       "      output_area._bokeh_element_id = output.metadata[EXEC_MIME_TYPE][\"id\"];\n",
       "    }\n",
       "    if (output.metadata[EXEC_MIME_TYPE][\"server_id\"] !== undefined) {\n",
       "      var bk_div = document.createElement(\"div\");\n",
       "      bk_div.innerHTML = output.data[HTML_MIME_TYPE];\n",
       "      var script_attrs = bk_div.children[0].attributes;\n",
       "      for (var i = 0; i < script_attrs.length; i++) {\n",
       "        toinsert[toinsert.length - 1].firstChild.setAttribute(script_attrs[i].name, script_attrs[i].value);\n",
       "        toinsert[toinsert.length - 1].firstChild.textContent = bk_div.children[0].textContent\n",
       "      }\n",
       "      // store reference to server id on output_area\n",
       "      output_area._bokeh_server_id = output.metadata[EXEC_MIME_TYPE][\"server_id\"];\n",
       "    }\n",
       "  }\n",
       "\n",
       "  function register_renderer(events, OutputArea) {\n",
       "\n",
       "    function append_mime(data, metadata, element) {\n",
       "      // create a DOM node to render to\n",
       "      var toinsert = this.create_output_subarea(\n",
       "        metadata,\n",
       "        CLASS_NAME,\n",
       "        EXEC_MIME_TYPE\n",
       "      );\n",
       "      this.keyboard_manager.register_events(toinsert);\n",
       "      // Render to node\n",
       "      var props = {data: data, metadata: metadata[EXEC_MIME_TYPE]};\n",
       "      render(props, toinsert[toinsert.length - 1]);\n",
       "      element.append(toinsert);\n",
       "      return toinsert\n",
       "    }\n",
       "\n",
       "    /* Handle when an output is cleared or removed */\n",
       "    events.on('clear_output.CodeCell', handleClearOutput);\n",
       "    events.on('delete.Cell', handleClearOutput);\n",
       "\n",
       "    /* Handle when a new output is added */\n",
       "    events.on('output_added.OutputArea', handleAddOutput);\n",
       "\n",
       "    /**\n",
       "     * Register the mime type and append_mime function with output_area\n",
       "     */\n",
       "    OutputArea.prototype.register_mime_type(EXEC_MIME_TYPE, append_mime, {\n",
       "      /* Is output safe? */\n",
       "      safe: true,\n",
       "      /* Index of renderer in `output_area.display_order` */\n",
       "      index: 0\n",
       "    });\n",
       "  }\n",
       "\n",
       "  // register the mime type if in Jupyter Notebook environment and previously unregistered\n",
       "  if (root.Jupyter !== undefined) {\n",
       "    var events = require('base/js/events');\n",
       "    var OutputArea = require('notebook/js/outputarea').OutputArea;\n",
       "\n",
       "    if (OutputArea.prototype.mime_types().indexOf(EXEC_MIME_TYPE) == -1) {\n",
       "      register_renderer(events, OutputArea);\n",
       "    }\n",
       "  }\n",
       "\n",
       "  \n",
       "  if (typeof (root._bokeh_timeout) === \"undefined\" || force === true) {\n",
       "    root._bokeh_timeout = Date.now() + 5000;\n",
       "    root._bokeh_failed_load = false;\n",
       "  }\n",
       "\n",
       "  var NB_LOAD_WARNING = {'data': {'text/html':\n",
       "     \"<div style='background-color: #fdd'>\\n\"+\n",
       "     \"<p>\\n\"+\n",
       "     \"BokehJS does not appear to have successfully loaded. If loading BokehJS from CDN, this \\n\"+\n",
       "     \"may be due to a slow or bad network connection. Possible fixes:\\n\"+\n",
       "     \"</p>\\n\"+\n",
       "     \"<ul>\\n\"+\n",
       "     \"<li>re-rerun `output_notebook()` to attempt to load from CDN again, or</li>\\n\"+\n",
       "     \"<li>use INLINE resources instead, as so:</li>\\n\"+\n",
       "     \"</ul>\\n\"+\n",
       "     \"<code>\\n\"+\n",
       "     \"from bokeh.resources import INLINE\\n\"+\n",
       "     \"output_notebook(resources=INLINE)\\n\"+\n",
       "     \"</code>\\n\"+\n",
       "     \"</div>\"}};\n",
       "\n",
       "  function display_loaded() {\n",
       "    var el = document.getElementById(null);\n",
       "    if (el != null) {\n",
       "      el.textContent = \"BokehJS is loading...\";\n",
       "    }\n",
       "    if (root.Bokeh !== undefined) {\n",
       "      if (el != null) {\n",
       "        el.textContent = \"BokehJS \" + root.Bokeh.version + \" successfully loaded.\";\n",
       "      }\n",
       "    } else if (Date.now() < root._bokeh_timeout) {\n",
       "      setTimeout(display_loaded, 100)\n",
       "    }\n",
       "  }\n",
       "\n",
       "\n",
       "  function run_callbacks() {\n",
       "    try {\n",
       "      root._bokeh_onload_callbacks.forEach(function(callback) {\n",
       "        if (callback != null)\n",
       "          callback();\n",
       "      });\n",
       "    } finally {\n",
       "      delete root._bokeh_onload_callbacks\n",
       "    }\n",
       "    console.debug(\"Bokeh: all callbacks have finished\");\n",
       "  }\n",
       "\n",
       "  function load_libs(css_urls, js_urls, callback) {\n",
       "    if (css_urls == null) css_urls = [];\n",
       "    if (js_urls == null) js_urls = [];\n",
       "\n",
       "    root._bokeh_onload_callbacks.push(callback);\n",
       "    if (root._bokeh_is_loading > 0) {\n",
       "      console.debug(\"Bokeh: BokehJS is being loaded, scheduling callback at\", now());\n",
       "      return null;\n",
       "    }\n",
       "    if (js_urls == null || js_urls.length === 0) {\n",
       "      run_callbacks();\n",
       "      return null;\n",
       "    }\n",
       "    console.debug(\"Bokeh: BokehJS not loaded, scheduling load and callback at\", now());\n",
       "    root._bokeh_is_loading = css_urls.length + js_urls.length;\n",
       "\n",
       "    function on_load() {\n",
       "      root._bokeh_is_loading--;\n",
       "      if (root._bokeh_is_loading === 0) {\n",
       "        console.debug(\"Bokeh: all BokehJS libraries/stylesheets loaded\");\n",
       "        run_callbacks()\n",
       "      }\n",
       "    }\n",
       "\n",
       "    function on_error() {\n",
       "      console.error(\"failed to load \" + url);\n",
       "    }\n",
       "\n",
       "    for (var i = 0; i < css_urls.length; i++) {\n",
       "      var url = css_urls[i];\n",
       "      const element = document.createElement(\"link\");\n",
       "      element.onload = on_load;\n",
       "      element.onerror = on_error;\n",
       "      element.rel = \"stylesheet\";\n",
       "      element.type = \"text/css\";\n",
       "      element.href = url;\n",
       "      console.debug(\"Bokeh: injecting link tag for BokehJS stylesheet: \", url);\n",
       "      document.body.appendChild(element);\n",
       "    }\n",
       "\n",
       "    const hashes = {\"https://cdn.bokeh.org/bokeh/release/bokeh-2.1.1.min.js\": \"kLr4fYcqcSpbuI95brIH3vnnYCquzzSxHPU6XGQCIkQRGJwhg0StNbj1eegrHs12\", \"https://cdn.bokeh.org/bokeh/release/bokeh-widgets-2.1.1.min.js\": \"xIGPmVtaOm+z0BqfSOMn4lOR6ciex448GIKG4eE61LsAvmGj48XcMQZtKcE/UXZe\", \"https://cdn.bokeh.org/bokeh/release/bokeh-tables-2.1.1.min.js\": \"Dc9u1wF/0zApGIWoBbH77iWEHtdmkuYWG839Uzmv8y8yBLXebjO9ZnERsde5Ln/P\", \"https://cdn.bokeh.org/bokeh/release/bokeh-gl-2.1.1.min.js\": \"cT9JaBz7GiRXdENrJLZNSC6eMNF3nh3fa5fTF51Svp+ukxPdwcU5kGXGPBgDCa2j\"};\n",
       "\n",
       "    for (var i = 0; i < js_urls.length; i++) {\n",
       "      var url = js_urls[i];\n",
       "      var element = document.createElement('script');\n",
       "      element.onload = on_load;\n",
       "      element.onerror = on_error;\n",
       "      element.async = false;\n",
       "      element.src = url;\n",
       "      if (url in hashes) {\n",
       "        element.crossOrigin = \"anonymous\";\n",
       "        element.integrity = \"sha384-\" + hashes[url];\n",
       "      }\n",
       "      console.debug(\"Bokeh: injecting script tag for BokehJS library: \", url);\n",
       "      document.head.appendChild(element);\n",
       "    }\n",
       "  };\n",
       "\n",
       "  function inject_raw_css(css) {\n",
       "    const element = document.createElement(\"style\");\n",
       "    element.appendChild(document.createTextNode(css));\n",
       "    document.body.appendChild(element);\n",
       "  }\n",
       "\n",
       "  \n",
       "  var js_urls = [\"https://cdn.bokeh.org/bokeh/release/bokeh-2.1.1.min.js\", \"https://cdn.bokeh.org/bokeh/release/bokeh-widgets-2.1.1.min.js\", \"https://cdn.bokeh.org/bokeh/release/bokeh-tables-2.1.1.min.js\", \"https://cdn.bokeh.org/bokeh/release/bokeh-gl-2.1.1.min.js\"];\n",
       "  var css_urls = [];\n",
       "  \n",
       "\n",
       "  var inline_js = [\n",
       "    function(Bokeh) {\n",
       "      Bokeh.set_log_level(\"info\");\n",
       "    },\n",
       "    function(Bokeh) {\n",
       "    \n",
       "    \n",
       "    }\n",
       "  ];\n",
       "\n",
       "  function run_inline_js() {\n",
       "    \n",
       "    if (root.Bokeh !== undefined || force === true) {\n",
       "      \n",
       "    for (var i = 0; i < inline_js.length; i++) {\n",
       "      inline_js[i].call(root, root.Bokeh);\n",
       "    }\n",
       "    } else if (Date.now() < root._bokeh_timeout) {\n",
       "      setTimeout(run_inline_js, 100);\n",
       "    } else if (!root._bokeh_failed_load) {\n",
       "      console.log(\"Bokeh: BokehJS failed to load within specified timeout.\");\n",
       "      root._bokeh_failed_load = true;\n",
       "    } else if (force !== true) {\n",
       "      var cell = $(document.getElementById(null)).parents('.cell').data().cell;\n",
       "      cell.output_area.append_execute_result(NB_LOAD_WARNING)\n",
       "    }\n",
       "\n",
       "  }\n",
       "\n",
       "  if (root._bokeh_is_loading === 0) {\n",
       "    console.debug(\"Bokeh: BokehJS loaded, going straight to plotting\");\n",
       "    run_inline_js();\n",
       "  } else {\n",
       "    load_libs(css_urls, js_urls, function() {\n",
       "      console.debug(\"Bokeh: BokehJS plotting callback run at\", now());\n",
       "      run_inline_js();\n",
       "    });\n",
       "  }\n",
       "}(window));"
      ],
      "application/vnd.bokehjs_load.v0+json": "\n(function(root) {\n  function now() {\n    return new Date();\n  }\n\n  var force = true;\n\n  if (typeof root._bokeh_onload_callbacks === \"undefined\" || force === true) {\n    root._bokeh_onload_callbacks = [];\n    root._bokeh_is_loading = undefined;\n  }\n\n  \n\n  \n  if (typeof (root._bokeh_timeout) === \"undefined\" || force === true) {\n    root._bokeh_timeout = Date.now() + 5000;\n    root._bokeh_failed_load = false;\n  }\n\n  var NB_LOAD_WARNING = {'data': {'text/html':\n     \"<div style='background-color: #fdd'>\\n\"+\n     \"<p>\\n\"+\n     \"BokehJS does not appear to have successfully loaded. If loading BokehJS from CDN, this \\n\"+\n     \"may be due to a slow or bad network connection. Possible fixes:\\n\"+\n     \"</p>\\n\"+\n     \"<ul>\\n\"+\n     \"<li>re-rerun `output_notebook()` to attempt to load from CDN again, or</li>\\n\"+\n     \"<li>use INLINE resources instead, as so:</li>\\n\"+\n     \"</ul>\\n\"+\n     \"<code>\\n\"+\n     \"from bokeh.resources import INLINE\\n\"+\n     \"output_notebook(resources=INLINE)\\n\"+\n     \"</code>\\n\"+\n     \"</div>\"}};\n\n  function display_loaded() {\n    var el = document.getElementById(null);\n    if (el != null) {\n      el.textContent = \"BokehJS is loading...\";\n    }\n    if (root.Bokeh !== undefined) {\n      if (el != null) {\n        el.textContent = \"BokehJS \" + root.Bokeh.version + \" successfully loaded.\";\n      }\n    } else if (Date.now() < root._bokeh_timeout) {\n      setTimeout(display_loaded, 100)\n    }\n  }\n\n\n  function run_callbacks() {\n    try {\n      root._bokeh_onload_callbacks.forEach(function(callback) {\n        if (callback != null)\n          callback();\n      });\n    } finally {\n      delete root._bokeh_onload_callbacks\n    }\n    console.debug(\"Bokeh: all callbacks have finished\");\n  }\n\n  function load_libs(css_urls, js_urls, callback) {\n    if (css_urls == null) css_urls = [];\n    if (js_urls == null) js_urls = [];\n\n    root._bokeh_onload_callbacks.push(callback);\n    if (root._bokeh_is_loading > 0) {\n      console.debug(\"Bokeh: BokehJS is being loaded, scheduling callback at\", now());\n      return null;\n    }\n    if (js_urls == null || js_urls.length === 0) {\n      run_callbacks();\n      return null;\n    }\n    console.debug(\"Bokeh: BokehJS not loaded, scheduling load and callback at\", now());\n    root._bokeh_is_loading = css_urls.length + js_urls.length;\n\n    function on_load() {\n      root._bokeh_is_loading--;\n      if (root._bokeh_is_loading === 0) {\n        console.debug(\"Bokeh: all BokehJS libraries/stylesheets loaded\");\n        run_callbacks()\n      }\n    }\n\n    function on_error() {\n      console.error(\"failed to load \" + url);\n    }\n\n    for (var i = 0; i < css_urls.length; i++) {\n      var url = css_urls[i];\n      const element = document.createElement(\"link\");\n      element.onload = on_load;\n      element.onerror = on_error;\n      element.rel = \"stylesheet\";\n      element.type = \"text/css\";\n      element.href = url;\n      console.debug(\"Bokeh: injecting link tag for BokehJS stylesheet: \", url);\n      document.body.appendChild(element);\n    }\n\n    const hashes = {\"https://cdn.bokeh.org/bokeh/release/bokeh-2.1.1.min.js\": \"kLr4fYcqcSpbuI95brIH3vnnYCquzzSxHPU6XGQCIkQRGJwhg0StNbj1eegrHs12\", \"https://cdn.bokeh.org/bokeh/release/bokeh-widgets-2.1.1.min.js\": \"xIGPmVtaOm+z0BqfSOMn4lOR6ciex448GIKG4eE61LsAvmGj48XcMQZtKcE/UXZe\", \"https://cdn.bokeh.org/bokeh/release/bokeh-tables-2.1.1.min.js\": \"Dc9u1wF/0zApGIWoBbH77iWEHtdmkuYWG839Uzmv8y8yBLXebjO9ZnERsde5Ln/P\", \"https://cdn.bokeh.org/bokeh/release/bokeh-gl-2.1.1.min.js\": \"cT9JaBz7GiRXdENrJLZNSC6eMNF3nh3fa5fTF51Svp+ukxPdwcU5kGXGPBgDCa2j\"};\n\n    for (var i = 0; i < js_urls.length; i++) {\n      var url = js_urls[i];\n      var element = document.createElement('script');\n      element.onload = on_load;\n      element.onerror = on_error;\n      element.async = false;\n      element.src = url;\n      if (url in hashes) {\n        element.crossOrigin = \"anonymous\";\n        element.integrity = \"sha384-\" + hashes[url];\n      }\n      console.debug(\"Bokeh: injecting script tag for BokehJS library: \", url);\n      document.head.appendChild(element);\n    }\n  };\n\n  function inject_raw_css(css) {\n    const element = document.createElement(\"style\");\n    element.appendChild(document.createTextNode(css));\n    document.body.appendChild(element);\n  }\n\n  \n  var js_urls = [\"https://cdn.bokeh.org/bokeh/release/bokeh-2.1.1.min.js\", \"https://cdn.bokeh.org/bokeh/release/bokeh-widgets-2.1.1.min.js\", \"https://cdn.bokeh.org/bokeh/release/bokeh-tables-2.1.1.min.js\", \"https://cdn.bokeh.org/bokeh/release/bokeh-gl-2.1.1.min.js\"];\n  var css_urls = [];\n  \n\n  var inline_js = [\n    function(Bokeh) {\n      Bokeh.set_log_level(\"info\");\n    },\n    function(Bokeh) {\n    \n    \n    }\n  ];\n\n  function run_inline_js() {\n    \n    if (root.Bokeh !== undefined || force === true) {\n      \n    for (var i = 0; i < inline_js.length; i++) {\n      inline_js[i].call(root, root.Bokeh);\n    }\n    } else if (Date.now() < root._bokeh_timeout) {\n      setTimeout(run_inline_js, 100);\n    } else if (!root._bokeh_failed_load) {\n      console.log(\"Bokeh: BokehJS failed to load within specified timeout.\");\n      root._bokeh_failed_load = true;\n    } else if (force !== true) {\n      var cell = $(document.getElementById(null)).parents('.cell').data().cell;\n      cell.output_area.append_execute_result(NB_LOAD_WARNING)\n    }\n\n  }\n\n  if (root._bokeh_is_loading === 0) {\n    console.debug(\"Bokeh: BokehJS loaded, going straight to plotting\");\n    run_inline_js();\n  } else {\n    load_libs(css_urls, js_urls, function() {\n      console.debug(\"Bokeh: BokehJS plotting callback run at\", now());\n      run_inline_js();\n    });\n  }\n}(window));"
     },
     "metadata": {},
     "output_type": "display_data"
    },
    {
     "data": {
      "application/vnd.jupyter.widget-view+json": {
       "model_id": "3205854bbaa242838a336e163b04028e",
       "version_major": 2,
       "version_minor": 0
      },
      "text/plain": [
       "GridBox(children=(GridBox(children=(Select(disabled=True, index=3, layout=Layout(grid_area='resistance', heigh…"
      ]
     },
     "metadata": {},
     "output_type": "display_data"
    }
   ],
   "source": [
    "p.explore_wire_diameter(resolution=0.001, debug=False)"
   ]
  },
  {
   "cell_type": "markdown",
   "metadata": {
    "slideshow": {
     "slide_type": "subslide"
    }
   },
   "source": [
    "After exploring, assign the parameters:"
   ]
  },
  {
   "cell_type": "code",
   "execution_count": 9,
   "metadata": {
    "slideshow": {
     "slide_type": "fragment"
    }
   },
   "outputs": [],
   "source": [
    "coil.set_wire_d(1.0, unit=\"mm\") \n",
    "coil.set_layer_count(14)  # comment if you wish to explore this value\n",
    "coil.mag_Br = 1.45  #  N45 neodynium magnet"
   ]
  },
  {
   "cell_type": "markdown",
   "metadata": {
    "slideshow": {
     "slide_type": "fragment"
    }
   },
   "source": [
    "Once we have explored values for wire diameter and current, \n",
    "we can explore force against extension of plunger and layer height"
   ]
  },
  {
   "cell_type": "markdown",
   "metadata": {
    "slideshow": {
     "slide_type": "slide"
    }
   },
   "source": [
    "### Explore Actuator Force"
   ]
  },
  {
   "cell_type": "code",
   "execution_count": 10,
   "metadata": {
    "slideshow": {
     "slide_type": "fragment"
    }
   },
   "outputs": [
    {
     "data": {
      "application/javascript": [
       "\n",
       "(function(root) {\n",
       "  function now() {\n",
       "    return new Date();\n",
       "  }\n",
       "\n",
       "  var force = true;\n",
       "\n",
       "  if (typeof root._bokeh_onload_callbacks === \"undefined\" || force === true) {\n",
       "    root._bokeh_onload_callbacks = [];\n",
       "    root._bokeh_is_loading = undefined;\n",
       "  }\n",
       "\n",
       "  var JS_MIME_TYPE = 'application/javascript';\n",
       "  var HTML_MIME_TYPE = 'text/html';\n",
       "  var EXEC_MIME_TYPE = 'application/vnd.bokehjs_exec.v0+json';\n",
       "  var CLASS_NAME = 'output_bokeh rendered_html';\n",
       "\n",
       "  /**\n",
       "   * Render data to the DOM node\n",
       "   */\n",
       "  function render(props, node) {\n",
       "    var script = document.createElement(\"script\");\n",
       "    node.appendChild(script);\n",
       "  }\n",
       "\n",
       "  /**\n",
       "   * Handle when an output is cleared or removed\n",
       "   */\n",
       "  function handleClearOutput(event, handle) {\n",
       "    var cell = handle.cell;\n",
       "\n",
       "    var id = cell.output_area._bokeh_element_id;\n",
       "    var server_id = cell.output_area._bokeh_server_id;\n",
       "    // Clean up Bokeh references\n",
       "    if (id != null && id in Bokeh.index) {\n",
       "      Bokeh.index[id].model.document.clear();\n",
       "      delete Bokeh.index[id];\n",
       "    }\n",
       "\n",
       "    if (server_id !== undefined) {\n",
       "      // Clean up Bokeh references\n",
       "      var cmd = \"from bokeh.io.state import curstate; print(curstate().uuid_to_server['\" + server_id + \"'].get_sessions()[0].document.roots[0]._id)\";\n",
       "      cell.notebook.kernel.execute(cmd, {\n",
       "        iopub: {\n",
       "          output: function(msg) {\n",
       "            var id = msg.content.text.trim();\n",
       "            if (id in Bokeh.index) {\n",
       "              Bokeh.index[id].model.document.clear();\n",
       "              delete Bokeh.index[id];\n",
       "            }\n",
       "          }\n",
       "        }\n",
       "      });\n",
       "      // Destroy server and session\n",
       "      var cmd = \"import bokeh.io.notebook as ion; ion.destroy_server('\" + server_id + \"')\";\n",
       "      cell.notebook.kernel.execute(cmd);\n",
       "    }\n",
       "  }\n",
       "\n",
       "  /**\n",
       "   * Handle when a new output is added\n",
       "   */\n",
       "  function handleAddOutput(event, handle) {\n",
       "    var output_area = handle.output_area;\n",
       "    var output = handle.output;\n",
       "\n",
       "    // limit handleAddOutput to display_data with EXEC_MIME_TYPE content only\n",
       "    if ((output.output_type != \"display_data\") || (!output.data.hasOwnProperty(EXEC_MIME_TYPE))) {\n",
       "      return\n",
       "    }\n",
       "\n",
       "    var toinsert = output_area.element.find(\".\" + CLASS_NAME.split(' ')[0]);\n",
       "\n",
       "    if (output.metadata[EXEC_MIME_TYPE][\"id\"] !== undefined) {\n",
       "      toinsert[toinsert.length - 1].firstChild.textContent = output.data[JS_MIME_TYPE];\n",
       "      // store reference to embed id on output_area\n",
       "      output_area._bokeh_element_id = output.metadata[EXEC_MIME_TYPE][\"id\"];\n",
       "    }\n",
       "    if (output.metadata[EXEC_MIME_TYPE][\"server_id\"] !== undefined) {\n",
       "      var bk_div = document.createElement(\"div\");\n",
       "      bk_div.innerHTML = output.data[HTML_MIME_TYPE];\n",
       "      var script_attrs = bk_div.children[0].attributes;\n",
       "      for (var i = 0; i < script_attrs.length; i++) {\n",
       "        toinsert[toinsert.length - 1].firstChild.setAttribute(script_attrs[i].name, script_attrs[i].value);\n",
       "        toinsert[toinsert.length - 1].firstChild.textContent = bk_div.children[0].textContent\n",
       "      }\n",
       "      // store reference to server id on output_area\n",
       "      output_area._bokeh_server_id = output.metadata[EXEC_MIME_TYPE][\"server_id\"];\n",
       "    }\n",
       "  }\n",
       "\n",
       "  function register_renderer(events, OutputArea) {\n",
       "\n",
       "    function append_mime(data, metadata, element) {\n",
       "      // create a DOM node to render to\n",
       "      var toinsert = this.create_output_subarea(\n",
       "        metadata,\n",
       "        CLASS_NAME,\n",
       "        EXEC_MIME_TYPE\n",
       "      );\n",
       "      this.keyboard_manager.register_events(toinsert);\n",
       "      // Render to node\n",
       "      var props = {data: data, metadata: metadata[EXEC_MIME_TYPE]};\n",
       "      render(props, toinsert[toinsert.length - 1]);\n",
       "      element.append(toinsert);\n",
       "      return toinsert\n",
       "    }\n",
       "\n",
       "    /* Handle when an output is cleared or removed */\n",
       "    events.on('clear_output.CodeCell', handleClearOutput);\n",
       "    events.on('delete.Cell', handleClearOutput);\n",
       "\n",
       "    /* Handle when a new output is added */\n",
       "    events.on('output_added.OutputArea', handleAddOutput);\n",
       "\n",
       "    /**\n",
       "     * Register the mime type and append_mime function with output_area\n",
       "     */\n",
       "    OutputArea.prototype.register_mime_type(EXEC_MIME_TYPE, append_mime, {\n",
       "      /* Is output safe? */\n",
       "      safe: true,\n",
       "      /* Index of renderer in `output_area.display_order` */\n",
       "      index: 0\n",
       "    });\n",
       "  }\n",
       "\n",
       "  // register the mime type if in Jupyter Notebook environment and previously unregistered\n",
       "  if (root.Jupyter !== undefined) {\n",
       "    var events = require('base/js/events');\n",
       "    var OutputArea = require('notebook/js/outputarea').OutputArea;\n",
       "\n",
       "    if (OutputArea.prototype.mime_types().indexOf(EXEC_MIME_TYPE) == -1) {\n",
       "      register_renderer(events, OutputArea);\n",
       "    }\n",
       "  }\n",
       "\n",
       "  \n",
       "  if (typeof (root._bokeh_timeout) === \"undefined\" || force === true) {\n",
       "    root._bokeh_timeout = Date.now() + 5000;\n",
       "    root._bokeh_failed_load = false;\n",
       "  }\n",
       "\n",
       "  var NB_LOAD_WARNING = {'data': {'text/html':\n",
       "     \"<div style='background-color: #fdd'>\\n\"+\n",
       "     \"<p>\\n\"+\n",
       "     \"BokehJS does not appear to have successfully loaded. If loading BokehJS from CDN, this \\n\"+\n",
       "     \"may be due to a slow or bad network connection. Possible fixes:\\n\"+\n",
       "     \"</p>\\n\"+\n",
       "     \"<ul>\\n\"+\n",
       "     \"<li>re-rerun `output_notebook()` to attempt to load from CDN again, or</li>\\n\"+\n",
       "     \"<li>use INLINE resources instead, as so:</li>\\n\"+\n",
       "     \"</ul>\\n\"+\n",
       "     \"<code>\\n\"+\n",
       "     \"from bokeh.resources import INLINE\\n\"+\n",
       "     \"output_notebook(resources=INLINE)\\n\"+\n",
       "     \"</code>\\n\"+\n",
       "     \"</div>\"}};\n",
       "\n",
       "  function display_loaded() {\n",
       "    var el = document.getElementById(null);\n",
       "    if (el != null) {\n",
       "      el.textContent = \"BokehJS is loading...\";\n",
       "    }\n",
       "    if (root.Bokeh !== undefined) {\n",
       "      if (el != null) {\n",
       "        el.textContent = \"BokehJS \" + root.Bokeh.version + \" successfully loaded.\";\n",
       "      }\n",
       "    } else if (Date.now() < root._bokeh_timeout) {\n",
       "      setTimeout(display_loaded, 100)\n",
       "    }\n",
       "  }\n",
       "\n",
       "\n",
       "  function run_callbacks() {\n",
       "    try {\n",
       "      root._bokeh_onload_callbacks.forEach(function(callback) {\n",
       "        if (callback != null)\n",
       "          callback();\n",
       "      });\n",
       "    } finally {\n",
       "      delete root._bokeh_onload_callbacks\n",
       "    }\n",
       "    console.debug(\"Bokeh: all callbacks have finished\");\n",
       "  }\n",
       "\n",
       "  function load_libs(css_urls, js_urls, callback) {\n",
       "    if (css_urls == null) css_urls = [];\n",
       "    if (js_urls == null) js_urls = [];\n",
       "\n",
       "    root._bokeh_onload_callbacks.push(callback);\n",
       "    if (root._bokeh_is_loading > 0) {\n",
       "      console.debug(\"Bokeh: BokehJS is being loaded, scheduling callback at\", now());\n",
       "      return null;\n",
       "    }\n",
       "    if (js_urls == null || js_urls.length === 0) {\n",
       "      run_callbacks();\n",
       "      return null;\n",
       "    }\n",
       "    console.debug(\"Bokeh: BokehJS not loaded, scheduling load and callback at\", now());\n",
       "    root._bokeh_is_loading = css_urls.length + js_urls.length;\n",
       "\n",
       "    function on_load() {\n",
       "      root._bokeh_is_loading--;\n",
       "      if (root._bokeh_is_loading === 0) {\n",
       "        console.debug(\"Bokeh: all BokehJS libraries/stylesheets loaded\");\n",
       "        run_callbacks()\n",
       "      }\n",
       "    }\n",
       "\n",
       "    function on_error() {\n",
       "      console.error(\"failed to load \" + url);\n",
       "    }\n",
       "\n",
       "    for (var i = 0; i < css_urls.length; i++) {\n",
       "      var url = css_urls[i];\n",
       "      const element = document.createElement(\"link\");\n",
       "      element.onload = on_load;\n",
       "      element.onerror = on_error;\n",
       "      element.rel = \"stylesheet\";\n",
       "      element.type = \"text/css\";\n",
       "      element.href = url;\n",
       "      console.debug(\"Bokeh: injecting link tag for BokehJS stylesheet: \", url);\n",
       "      document.body.appendChild(element);\n",
       "    }\n",
       "\n",
       "    const hashes = {\"https://cdn.bokeh.org/bokeh/release/bokeh-2.1.1.min.js\": \"kLr4fYcqcSpbuI95brIH3vnnYCquzzSxHPU6XGQCIkQRGJwhg0StNbj1eegrHs12\", \"https://cdn.bokeh.org/bokeh/release/bokeh-widgets-2.1.1.min.js\": \"xIGPmVtaOm+z0BqfSOMn4lOR6ciex448GIKG4eE61LsAvmGj48XcMQZtKcE/UXZe\", \"https://cdn.bokeh.org/bokeh/release/bokeh-tables-2.1.1.min.js\": \"Dc9u1wF/0zApGIWoBbH77iWEHtdmkuYWG839Uzmv8y8yBLXebjO9ZnERsde5Ln/P\", \"https://cdn.bokeh.org/bokeh/release/bokeh-gl-2.1.1.min.js\": \"cT9JaBz7GiRXdENrJLZNSC6eMNF3nh3fa5fTF51Svp+ukxPdwcU5kGXGPBgDCa2j\"};\n",
       "\n",
       "    for (var i = 0; i < js_urls.length; i++) {\n",
       "      var url = js_urls[i];\n",
       "      var element = document.createElement('script');\n",
       "      element.onload = on_load;\n",
       "      element.onerror = on_error;\n",
       "      element.async = false;\n",
       "      element.src = url;\n",
       "      if (url in hashes) {\n",
       "        element.crossOrigin = \"anonymous\";\n",
       "        element.integrity = \"sha384-\" + hashes[url];\n",
       "      }\n",
       "      console.debug(\"Bokeh: injecting script tag for BokehJS library: \", url);\n",
       "      document.head.appendChild(element);\n",
       "    }\n",
       "  };\n",
       "\n",
       "  function inject_raw_css(css) {\n",
       "    const element = document.createElement(\"style\");\n",
       "    element.appendChild(document.createTextNode(css));\n",
       "    document.body.appendChild(element);\n",
       "  }\n",
       "\n",
       "  \n",
       "  var js_urls = [\"https://cdn.bokeh.org/bokeh/release/bokeh-2.1.1.min.js\", \"https://cdn.bokeh.org/bokeh/release/bokeh-widgets-2.1.1.min.js\", \"https://cdn.bokeh.org/bokeh/release/bokeh-tables-2.1.1.min.js\", \"https://cdn.bokeh.org/bokeh/release/bokeh-gl-2.1.1.min.js\"];\n",
       "  var css_urls = [];\n",
       "  \n",
       "\n",
       "  var inline_js = [\n",
       "    function(Bokeh) {\n",
       "      Bokeh.set_log_level(\"info\");\n",
       "    },\n",
       "    function(Bokeh) {\n",
       "    \n",
       "    \n",
       "    }\n",
       "  ];\n",
       "\n",
       "  function run_inline_js() {\n",
       "    \n",
       "    if (root.Bokeh !== undefined || force === true) {\n",
       "      \n",
       "    for (var i = 0; i < inline_js.length; i++) {\n",
       "      inline_js[i].call(root, root.Bokeh);\n",
       "    }\n",
       "    } else if (Date.now() < root._bokeh_timeout) {\n",
       "      setTimeout(run_inline_js, 100);\n",
       "    } else if (!root._bokeh_failed_load) {\n",
       "      console.log(\"Bokeh: BokehJS failed to load within specified timeout.\");\n",
       "      root._bokeh_failed_load = true;\n",
       "    } else if (force !== true) {\n",
       "      var cell = $(document.getElementById(null)).parents('.cell').data().cell;\n",
       "      cell.output_area.append_execute_result(NB_LOAD_WARNING)\n",
       "    }\n",
       "\n",
       "  }\n",
       "\n",
       "  if (root._bokeh_is_loading === 0) {\n",
       "    console.debug(\"Bokeh: BokehJS loaded, going straight to plotting\");\n",
       "    run_inline_js();\n",
       "  } else {\n",
       "    load_libs(css_urls, js_urls, function() {\n",
       "      console.debug(\"Bokeh: BokehJS plotting callback run at\", now());\n",
       "      run_inline_js();\n",
       "    });\n",
       "  }\n",
       "}(window));"
      ],
      "application/vnd.bokehjs_load.v0+json": "\n(function(root) {\n  function now() {\n    return new Date();\n  }\n\n  var force = true;\n\n  if (typeof root._bokeh_onload_callbacks === \"undefined\" || force === true) {\n    root._bokeh_onload_callbacks = [];\n    root._bokeh_is_loading = undefined;\n  }\n\n  \n\n  \n  if (typeof (root._bokeh_timeout) === \"undefined\" || force === true) {\n    root._bokeh_timeout = Date.now() + 5000;\n    root._bokeh_failed_load = false;\n  }\n\n  var NB_LOAD_WARNING = {'data': {'text/html':\n     \"<div style='background-color: #fdd'>\\n\"+\n     \"<p>\\n\"+\n     \"BokehJS does not appear to have successfully loaded. If loading BokehJS from CDN, this \\n\"+\n     \"may be due to a slow or bad network connection. Possible fixes:\\n\"+\n     \"</p>\\n\"+\n     \"<ul>\\n\"+\n     \"<li>re-rerun `output_notebook()` to attempt to load from CDN again, or</li>\\n\"+\n     \"<li>use INLINE resources instead, as so:</li>\\n\"+\n     \"</ul>\\n\"+\n     \"<code>\\n\"+\n     \"from bokeh.resources import INLINE\\n\"+\n     \"output_notebook(resources=INLINE)\\n\"+\n     \"</code>\\n\"+\n     \"</div>\"}};\n\n  function display_loaded() {\n    var el = document.getElementById(null);\n    if (el != null) {\n      el.textContent = \"BokehJS is loading...\";\n    }\n    if (root.Bokeh !== undefined) {\n      if (el != null) {\n        el.textContent = \"BokehJS \" + root.Bokeh.version + \" successfully loaded.\";\n      }\n    } else if (Date.now() < root._bokeh_timeout) {\n      setTimeout(display_loaded, 100)\n    }\n  }\n\n\n  function run_callbacks() {\n    try {\n      root._bokeh_onload_callbacks.forEach(function(callback) {\n        if (callback != null)\n          callback();\n      });\n    } finally {\n      delete root._bokeh_onload_callbacks\n    }\n    console.debug(\"Bokeh: all callbacks have finished\");\n  }\n\n  function load_libs(css_urls, js_urls, callback) {\n    if (css_urls == null) css_urls = [];\n    if (js_urls == null) js_urls = [];\n\n    root._bokeh_onload_callbacks.push(callback);\n    if (root._bokeh_is_loading > 0) {\n      console.debug(\"Bokeh: BokehJS is being loaded, scheduling callback at\", now());\n      return null;\n    }\n    if (js_urls == null || js_urls.length === 0) {\n      run_callbacks();\n      return null;\n    }\n    console.debug(\"Bokeh: BokehJS not loaded, scheduling load and callback at\", now());\n    root._bokeh_is_loading = css_urls.length + js_urls.length;\n\n    function on_load() {\n      root._bokeh_is_loading--;\n      if (root._bokeh_is_loading === 0) {\n        console.debug(\"Bokeh: all BokehJS libraries/stylesheets loaded\");\n        run_callbacks()\n      }\n    }\n\n    function on_error() {\n      console.error(\"failed to load \" + url);\n    }\n\n    for (var i = 0; i < css_urls.length; i++) {\n      var url = css_urls[i];\n      const element = document.createElement(\"link\");\n      element.onload = on_load;\n      element.onerror = on_error;\n      element.rel = \"stylesheet\";\n      element.type = \"text/css\";\n      element.href = url;\n      console.debug(\"Bokeh: injecting link tag for BokehJS stylesheet: \", url);\n      document.body.appendChild(element);\n    }\n\n    const hashes = {\"https://cdn.bokeh.org/bokeh/release/bokeh-2.1.1.min.js\": \"kLr4fYcqcSpbuI95brIH3vnnYCquzzSxHPU6XGQCIkQRGJwhg0StNbj1eegrHs12\", \"https://cdn.bokeh.org/bokeh/release/bokeh-widgets-2.1.1.min.js\": \"xIGPmVtaOm+z0BqfSOMn4lOR6ciex448GIKG4eE61LsAvmGj48XcMQZtKcE/UXZe\", \"https://cdn.bokeh.org/bokeh/release/bokeh-tables-2.1.1.min.js\": \"Dc9u1wF/0zApGIWoBbH77iWEHtdmkuYWG839Uzmv8y8yBLXebjO9ZnERsde5Ln/P\", \"https://cdn.bokeh.org/bokeh/release/bokeh-gl-2.1.1.min.js\": \"cT9JaBz7GiRXdENrJLZNSC6eMNF3nh3fa5fTF51Svp+ukxPdwcU5kGXGPBgDCa2j\"};\n\n    for (var i = 0; i < js_urls.length; i++) {\n      var url = js_urls[i];\n      var element = document.createElement('script');\n      element.onload = on_load;\n      element.onerror = on_error;\n      element.async = false;\n      element.src = url;\n      if (url in hashes) {\n        element.crossOrigin = \"anonymous\";\n        element.integrity = \"sha384-\" + hashes[url];\n      }\n      console.debug(\"Bokeh: injecting script tag for BokehJS library: \", url);\n      document.head.appendChild(element);\n    }\n  };\n\n  function inject_raw_css(css) {\n    const element = document.createElement(\"style\");\n    element.appendChild(document.createTextNode(css));\n    document.body.appendChild(element);\n  }\n\n  \n  var js_urls = [\"https://cdn.bokeh.org/bokeh/release/bokeh-2.1.1.min.js\", \"https://cdn.bokeh.org/bokeh/release/bokeh-widgets-2.1.1.min.js\", \"https://cdn.bokeh.org/bokeh/release/bokeh-tables-2.1.1.min.js\", \"https://cdn.bokeh.org/bokeh/release/bokeh-gl-2.1.1.min.js\"];\n  var css_urls = [];\n  \n\n  var inline_js = [\n    function(Bokeh) {\n      Bokeh.set_log_level(\"info\");\n    },\n    function(Bokeh) {\n    \n    \n    }\n  ];\n\n  function run_inline_js() {\n    \n    if (root.Bokeh !== undefined || force === true) {\n      \n    for (var i = 0; i < inline_js.length; i++) {\n      inline_js[i].call(root, root.Bokeh);\n    }\n    } else if (Date.now() < root._bokeh_timeout) {\n      setTimeout(run_inline_js, 100);\n    } else if (!root._bokeh_failed_load) {\n      console.log(\"Bokeh: BokehJS failed to load within specified timeout.\");\n      root._bokeh_failed_load = true;\n    } else if (force !== true) {\n      var cell = $(document.getElementById(null)).parents('.cell').data().cell;\n      cell.output_area.append_execute_result(NB_LOAD_WARNING)\n    }\n\n  }\n\n  if (root._bokeh_is_loading === 0) {\n    console.debug(\"Bokeh: BokehJS loaded, going straight to plotting\");\n    run_inline_js();\n  } else {\n    load_libs(css_urls, js_urls, function() {\n      console.debug(\"Bokeh: BokehJS plotting callback run at\", now());\n      run_inline_js();\n    });\n  }\n}(window));"
     },
     "metadata": {},
     "output_type": "display_data"
    },
    {
     "data": {
      "application/vnd.jupyter.widget-view+json": {
       "model_id": "6a3ed7c2c3a04737afa180bef8169330",
       "version_major": 2,
       "version_minor": 0
      },
      "text/plain": [
       "GridBox(children=(HTML(value='Coil Layers', layout=Layout(grid_area='title', width='99%')), FloatRangeSlider(v…"
      ]
     },
     "metadata": {},
     "output_type": "display_data"
    },
    {
     "data": {
      "text/html": [
       "\n",
       "\n",
       "\n",
       "\n",
       "\n",
       "\n",
       "  <div class=\"bk-root\" id=\"6c90ae6e-d745-4492-aa82-363a3819dc5d\" data-root-id=\"6321\"></div>\n"
      ]
     },
     "metadata": {},
     "output_type": "display_data"
    },
    {
     "data": {
      "application/javascript": [
       "(function(root) {\n",
       "  function embed_document(root) {\n",
       "    \n",
       "  var docs_json = {\"f6bf034d-f1aa-40a0-a48a-c0c209dc16bb\":{\"roots\":{\"references\":[{\"attributes\":{\"below\":[{\"id\":\"6332\"}],\"center\":[{\"id\":\"6335\"},{\"id\":\"6339\"}],\"left\":[{\"id\":\"6336\"}],\"plot_height\":500,\"plot_width\":900,\"renderers\":[{\"id\":\"6351\"},{\"id\":\"6359\"},{\"id\":\"6367\"},{\"id\":\"6375\"}],\"right\":[{\"id\":\"6393\"}],\"title\":{\"id\":\"6322\"},\"toolbar\":{\"id\":\"6343\"},\"x_range\":{\"id\":\"6324\"},\"x_scale\":{\"id\":\"6328\"},\"y_range\":{\"id\":\"6326\"},\"y_scale\":{\"id\":\"6330\"}},\"id\":\"6321\",\"subtype\":\"Figure\",\"type\":\"Plot\"},{\"attributes\":{\"line_color\":\"rgb(255, 187, 120)\",\"line_width\":2,\"x\":{\"field\":\"extension\"},\"y\":{\"field\":\"force\"}},\"id\":\"6373\",\"type\":\"Line\"},{\"attributes\":{\"source\":{\"id\":\"6371\"}},\"id\":\"6376\",\"type\":\"CDSView\"},{\"attributes\":{\"label\":{\"value\":\"46.0 layers (0.01mm height)\"},\"renderers\":[{\"id\":\"6367\"}]},\"id\":\"6396\",\"type\":\"LegendItem\"},{\"attributes\":{\"line_alpha\":0.1,\"line_color\":\"rgb(255, 127, 14)\",\"line_width\":2,\"x\":{\"field\":\"extension\"},\"y\":{\"field\":\"force\"}},\"id\":\"6366\",\"type\":\"Line\"},{\"attributes\":{},\"id\":\"6390\",\"type\":\"UnionRenderers\"},{\"attributes\":{\"label\":{\"value\":\"23.0 layers (0.01mm height)\"},\"renderers\":[{\"id\":\"6375\"}]},\"id\":\"6397\",\"type\":\"LegendItem\"},{\"attributes\":{\"align\":\"center\",\"text\":\"Force against extension against coil layers for 1.0mm wire\"},\"id\":\"6322\",\"type\":\"Title\"},{\"attributes\":{},\"id\":\"6391\",\"type\":\"Selection\"},{\"attributes\":{\"line_alpha\":0.1,\"line_color\":\"rgb(255, 187, 120)\",\"line_width\":2,\"x\":{\"field\":\"extension\"},\"y\":{\"field\":\"force\"}},\"id\":\"6374\",\"type\":\"Line\"},{\"attributes\":{},\"id\":\"6380\",\"type\":\"BasicTickFormatter\"},{\"attributes\":{\"axis_label\":\"Extension (m)\",\"formatter\":{\"id\":\"6380\"},\"ticker\":{\"id\":\"6333\"}},\"id\":\"6332\",\"type\":\"LinearAxis\"},{\"attributes\":{\"line_color\":\"rgb(174, 199, 232)\",\"line_width\":2,\"x\":{\"field\":\"extension\"},\"y\":{\"field\":\"force\"}},\"id\":\"6357\",\"type\":\"Line\"},{\"attributes\":{},\"id\":\"6326\",\"type\":\"DataRange1d\"},{\"attributes\":{},\"id\":\"6384\",\"type\":\"UnionRenderers\"},{\"attributes\":{},\"id\":\"6385\",\"type\":\"Selection\"},{\"attributes\":{},\"id\":\"6324\",\"type\":\"DataRange1d\"},{\"attributes\":{\"active_drag\":\"auto\",\"active_inspect\":\"auto\",\"active_multi\":null,\"active_scroll\":{\"id\":\"6342\"},\"active_tap\":\"auto\",\"tools\":[{\"id\":\"6340\"},{\"id\":\"6341\"},{\"id\":\"6342\"},{\"id\":\"6353\"},{\"id\":\"6361\"},{\"id\":\"6369\"},{\"id\":\"6377\"}]},\"id\":\"6343\",\"type\":\"Toolbar\"},{\"attributes\":{\"axis_label\":\"Force (N)\",\"formatter\":{\"id\":\"6382\"},\"ticker\":{\"id\":\"6337\"}},\"id\":\"6336\",\"type\":\"LinearAxis\"},{\"attributes\":{},\"id\":\"6333\",\"type\":\"BasicTicker\"},{\"attributes\":{\"data_source\":{\"id\":\"6347\"},\"glyph\":{\"id\":\"6349\"},\"hover_glyph\":null,\"muted_glyph\":null,\"nonselection_glyph\":{\"id\":\"6350\"},\"selection_glyph\":null,\"view\":{\"id\":\"6352\"}},\"id\":\"6351\",\"type\":\"GlyphRenderer\"},{\"attributes\":{},\"id\":\"6330\",\"type\":\"LinearScale\"},{\"attributes\":{\"data\":{\"coil_layers\":[\"92.0\",\"92.0\",\"92.0\",\"92.0\",\"92.0\",\"92.0\",\"92.0\",\"92.0\",\"92.0\",\"92.0\",\"92.0\",\"92.0\",\"92.0\",\"92.0\",\"92.0\",\"92.0\",\"92.0\",\"92.0\",\"92.0\",\"92.0\",\"92.0\",\"92.0\",\"92.0\",\"92.0\",\"92.0\",\"92.0\",\"92.0\",\"92.0\",\"92.0\",\"92.0\",\"92.0\",\"92.0\",\"92.0\",\"92.0\",\"92.0\",\"92.0\",\"92.0\",\"92.0\",\"92.0\",\"92.0\",\"92.0\",\"92.0\",\"92.0\",\"92.0\",\"92.0\",\"92.0\",\"92.0\",\"92.0\",\"92.0\",\"92.0\",\"92.0\",\"92.0\",\"92.0\",\"92.0\",\"92.0\",\"92.0\",\"92.0\",\"92.0\",\"92.0\",\"92.0\",\"92.0\",\"92.0\",\"92.0\",\"92.0\",\"92.0\",\"92.0\",\"92.0\",\"92.0\",\"92.0\",\"92.0\",\"92.0\",\"92.0\",\"92.0\",\"92.0\",\"92.0\",\"92.0\",\"92.0\",\"92.0\",\"92.0\",\"92.0\",\"92.0\",\"92.0\",\"92.0\",\"92.0\",\"92.0\",\"92.0\",\"92.0\",\"92.0\",\"92.0\",\"92.0\",\"92.0\",\"92.0\",\"92.0\",\"92.0\",\"92.0\",\"92.0\",\"92.0\",\"92.0\",\"92.0\",\"92.0\",\"92.0\",\"92.0\",\"92.0\",\"92.0\",\"92.0\",\"92.0\",\"92.0\",\"92.0\",\"92.0\",\"92.0\",\"92.0\",\"92.0\",\"92.0\",\"92.0\",\"92.0\",\"92.0\",\"92.0\",\"92.0\",\"92.0\",\"92.0\",\"92.0\",\"92.0\",\"92.0\",\"92.0\",\"92.0\",\"92.0\",\"92.0\",\"92.0\",\"92.0\",\"92.0\",\"92.0\",\"92.0\",\"92.0\",\"92.0\",\"92.0\",\"92.0\",\"92.0\",\"92.0\",\"92.0\",\"92.0\",\"92.0\",\"92.0\",\"92.0\",\"92.0\",\"92.0\",\"92.0\",\"92.0\",\"92.0\",\"92.0\",\"92.0\",\"92.0\"],\"extension\":[0.0,0.001,0.002,0.003,0.004,0.005,0.006,0.007,0.008,0.009000000000000001,0.01,0.011,0.012,0.013000000000000001,0.014,0.015,0.016,0.017,0.018000000000000002,0.019,0.02,0.021,0.022,0.023,0.024,0.025,0.026000000000000002,0.027,0.028,0.029,0.03,0.031,0.032,0.033,0.034,0.035,0.036000000000000004,0.037,0.038,0.039,0.04,0.041,0.042,0.043000000000000003,0.044,0.045,0.046,0.047,0.048,0.049,0.05,0.051000000000000004,0.052000000000000005,0.053,0.054,0.055,0.056,0.057,0.058,0.059000000000000004,0.06,0.061,0.062,0.063,0.064,0.065,0.066,0.067,0.068,0.069,0.07,0.07100000000000001,0.07200000000000001,0.073,0.074,0.075,0.076,0.077,0.078,0.079,0.08,0.081,0.082,0.083,0.084,0.085,0.08600000000000001,0.08700000000000001,0.088,0.089,0.09,0.091,0.092,0.093,0.094,0.095,0.096,0.097,0.098,0.099,0.1,0.101,0.10200000000000001,0.10300000000000001,0.10400000000000001,0.105,0.106,0.107,0.108,0.109,0.11,0.111,0.112,0.113,0.114,0.115,0.116,0.117,0.11800000000000001,0.11900000000000001,0.12,0.121,0.122,0.123,0.124,0.125,0.126,0.127,0.128,0.129,0.13,0.131,0.132,0.133,0.134,0.135,0.136,0.137,0.138,0.139,0.14,0.14100000000000001,0.14200000000000002,0.14300000000000002,0.14400000000000002,0.145,0.146,0.147,0.148,0.149,0.15],\"force\":[0.0,1.0850264320517207,2.146431225410457,3.18492134048586,4.201177843608834,5.195856990740457,6.1695912620702185,7.122990349769925,8.05664210107575,8.971113418777898,9.866951121107585,10.744682762923135,11.604817420011647,12.44784643824079,13.274244149215248,14.084468554016443,14.8789619765299,15.658151687794417,16.42245050273917,17.172257350609883,17.907957820323485,18.62992468193046,19.338518385308326,20.034087537154637,20.716969357296687,21.387490115285782,22.04596554819675,22.69270126050882,23.327993106901285,23.952127558757027,24.565382055127884,25.168025338879847,25.760317778700482,26.342511677618223,26.91485156865145,27.477574498175226,28.03091029756504,28.57508184365012,29.110305308482488,29.63679039890417,30.15474058637132,30.664353327471854,31.165820275552484,31.659327483851186,32.14505560051156,32.62318005583843,33.09387124213611,33.55729468645542,34.01361121655897,34.46297712040078,34.905544299401384,35.34146041578718,35.770869034249074,36.19390975816506,36.6107183606186,37.02142691043446,37.42616389344382,37.82505432917957,38.21821988319472,38.60577897518719,38.987846883105746,39.36453584340513,39.73595514760862,40.102211235331495,40.4634077839101,40.81964579477569,41.17102367670564,41.51763732607878,41.859580204255785,42.19694341220064,42.52981576245353,42.858283848560916,43.182432112063914,43.50234290714171,43.81809656300252,44.12977144411002,43.85274079769492,43.57908006144451,43.308729634195814,43.04163127702173,42.77772807553333,42.51696440339333,42.259285886996494,42.00463937127572,41.7529728865924,41.50423561667301,41.258377867554195,41.01535103750103,40.7751075878632,40.53760101483722,40.30278582210156,40.07061749429531,39.84105247131028,39.61404812336849,39.38956272685816,39.16755544090157,38.94798628463001,38.73081611514174,38.51600660611943,38.303520227084746,38.09332022326882,37.885370596077394,37.67963608413142,37.47608214486295,37.274674936648594,37.075381301462585,36.8781687480317,36.68300543547651,36.48986015742222,36.29870232656401,36.1095019596721,35.922229663022556,35.736856618239386,35.55335456853575,35.371695805340266,35.191853155296975,35.013799967627186,34.837510101840785,34.66295791578717,34.49011825403406,34.31896643656474,34.149478247783364,33.98162992581864,33.81539815211715,33.65076004131698,33.487693131392795,33.32617537406496,33.166185125463414,33.007701137039774,32.85070254671899,32.6951688702846,32.54107999298905,32.38841616138379,32.23715797536151,32.08728638040511,31.93878266003614,31.79162842845802,31.64580562338751,31.501296499069387,31.358083619468328,31.216149851633805,31.075478359231976,30.93605259624065,30.79785630080173,30.660873489227512,30.525088450155618,30.3904857388491,30.25705017163692,30.124766820491192,29.99362100773752,29.863598300894004]},\"selected\":{\"id\":\"6385\"},\"selection_policy\":{\"id\":\"6384\"}},\"id\":\"6347\",\"type\":\"ColumnDataSource\"},{\"attributes\":{},\"id\":\"6337\",\"type\":\"BasicTicker\"},{\"attributes\":{},\"id\":\"6386\",\"type\":\"UnionRenderers\"},{\"attributes\":{\"data_source\":{\"id\":\"6371\"},\"glyph\":{\"id\":\"6373\"},\"hover_glyph\":null,\"muted_glyph\":null,\"nonselection_glyph\":{\"id\":\"6374\"},\"selection_glyph\":null,\"view\":{\"id\":\"6376\"}},\"id\":\"6375\",\"type\":\"GlyphRenderer\"},{\"attributes\":{},\"id\":\"6328\",\"type\":\"LinearScale\"},{\"attributes\":{\"axis\":{\"id\":\"6332\"},\"ticker\":null},\"id\":\"6335\",\"type\":\"Grid\"},{\"attributes\":{\"data\":{\"coil_layers\":[\"46.0\",\"46.0\",\"46.0\",\"46.0\",\"46.0\",\"46.0\",\"46.0\",\"46.0\",\"46.0\",\"46.0\",\"46.0\",\"46.0\",\"46.0\",\"46.0\",\"46.0\",\"46.0\",\"46.0\",\"46.0\",\"46.0\",\"46.0\",\"46.0\",\"46.0\",\"46.0\",\"46.0\",\"46.0\",\"46.0\",\"46.0\",\"46.0\",\"46.0\",\"46.0\",\"46.0\",\"46.0\",\"46.0\",\"46.0\",\"46.0\",\"46.0\",\"46.0\",\"46.0\",\"46.0\",\"46.0\",\"46.0\",\"46.0\",\"46.0\",\"46.0\",\"46.0\",\"46.0\",\"46.0\",\"46.0\",\"46.0\",\"46.0\",\"46.0\",\"46.0\",\"46.0\",\"46.0\",\"46.0\",\"46.0\",\"46.0\",\"46.0\",\"46.0\",\"46.0\",\"46.0\",\"46.0\",\"46.0\",\"46.0\",\"46.0\",\"46.0\",\"46.0\",\"46.0\",\"46.0\",\"46.0\",\"46.0\",\"46.0\",\"46.0\",\"46.0\",\"46.0\",\"46.0\",\"46.0\",\"46.0\",\"46.0\",\"46.0\",\"46.0\",\"46.0\",\"46.0\",\"46.0\",\"46.0\",\"46.0\",\"46.0\",\"46.0\",\"46.0\",\"46.0\",\"46.0\",\"46.0\",\"46.0\",\"46.0\",\"46.0\",\"46.0\",\"46.0\",\"46.0\",\"46.0\",\"46.0\",\"46.0\",\"46.0\",\"46.0\",\"46.0\",\"46.0\",\"46.0\",\"46.0\",\"46.0\",\"46.0\",\"46.0\",\"46.0\",\"46.0\",\"46.0\",\"46.0\",\"46.0\",\"46.0\",\"46.0\",\"46.0\",\"46.0\",\"46.0\",\"46.0\",\"46.0\",\"46.0\",\"46.0\",\"46.0\",\"46.0\",\"46.0\",\"46.0\",\"46.0\",\"46.0\",\"46.0\",\"46.0\",\"46.0\",\"46.0\",\"46.0\",\"46.0\",\"46.0\",\"46.0\",\"46.0\",\"46.0\",\"46.0\",\"46.0\",\"46.0\",\"46.0\",\"46.0\",\"46.0\",\"46.0\",\"46.0\",\"46.0\",\"46.0\",\"46.0\"],\"extension\":[0.0,0.001,0.002,0.003,0.004,0.005,0.006,0.007,0.008,0.009000000000000001,0.01,0.011,0.012,0.013000000000000001,0.014,0.015,0.016,0.017,0.018000000000000002,0.019,0.02,0.021,0.022,0.023,0.024,0.025,0.026000000000000002,0.027,0.028,0.029,0.03,0.031,0.032,0.033,0.034,0.035,0.036000000000000004,0.037,0.038,0.039,0.04,0.041,0.042,0.043000000000000003,0.044,0.045,0.046,0.047,0.048,0.049,0.05,0.051000000000000004,0.052000000000000005,0.053,0.054,0.055,0.056,0.057,0.058,0.059000000000000004,0.06,0.061,0.062,0.063,0.064,0.065,0.066,0.067,0.068,0.069,0.07,0.07100000000000001,0.07200000000000001,0.073,0.074,0.075,0.076,0.077,0.078,0.079,0.08,0.081,0.082,0.083,0.084,0.085,0.08600000000000001,0.08700000000000001,0.088,0.089,0.09,0.091,0.092,0.093,0.094,0.095,0.096,0.097,0.098,0.099,0.1,0.101,0.10200000000000001,0.10300000000000001,0.10400000000000001,0.105,0.106,0.107,0.108,0.109,0.11,0.111,0.112,0.113,0.114,0.115,0.116,0.117,0.11800000000000001,0.11900000000000001,0.12,0.121,0.122,0.123,0.124,0.125,0.126,0.127,0.128,0.129,0.13,0.131,0.132,0.133,0.134,0.135,0.136,0.137,0.138,0.139,0.14,0.14100000000000001,0.14200000000000002,0.14300000000000002,0.14400000000000002,0.145,0.146,0.147,0.148,0.149,0.15],\"force\":[0.0,0.5717752212205708,1.1298783466067208,1.6747750932117413,2.2069111039338605,2.726712970912888,3.2345892000687555,3.730931120448007,4.216113741808302,4.690496563649374,5.154424338691283,5.608227793606422,6.052224309629286,6.48671856549834,6.912003145024525,7.328359111432783,7.73605655048367,8.135355084252657,8.526504357323635,8.90974449703992,9.285306549351093,9.653412891694954,10.014277624262553,10.368106940908476,10.71509948088845,11.05544666253192,11.389332999887408,11.716936403313905,12.038428464930202,12.3539747297782,12.663734953502635,12.967863347300916,13.266508810849915,13.559815153874252,13.847921306979588,14.130961522337122,14.409065564770419,14.682358893762201,14.950962836868714,15.21499475499969,15.474568199995323,15.729793064906577,15.980775727360687,16.22761918637298,16.470423192943432,16.709284374758884,16.94429635530211,17.175549867652535,17.403132863247023,17.62713061585439,17.847625821002836,18.064698691086175,18.278427046362587,18.48888640204748,18.696150051691728,18.90028914702446,19.10137277443272,19.299468028237946,19.494640080922842,19.686952250453345,19.876466064832158,20.06324132401453,20.247336159308276,20.428807090375646,20.60770907994675,20.784095586350205,20.95801861395964,21.129528761651486,21.298675269362768,21.465506062834596,21.63006779662213,21.792405895447477,21.952564593969132,22.11058697503691,22.26651500649846,22.420389576620206,22.275247231759103,22.131951322700548,21.990467226020925,21.850761168912065,21.712800203517634,21.57655218218254,21.441985733577216,21.309070239662045,21.177775813457526,21.048073277588593,20.919934143571357,20.793330591813476,20.668235452299538,20.544622185934923,20.422464866522006,20.30173816334449,20.18241732433584,20.06447815981008,19.94789702673248,19.83265081351039,19.718716925283815,19.606073269697365,19.494698243135165,19.384570717401697,19.275670026831552,19.167975955812597,19.06146872670752,18.956128988158156,18.85193780375994,18.748876641092,18.646927361090533,18.546072207753074,18.446293798161747,18.347575112813836,18.249899486249532,18.153250597965435,18.057612463604542,17.96296942641252,17.8693061489514,17.776607605061223,17.68485907206186,17.59404612318604,17.504154620236026,17.41517070645617,17.327080799614464,17.239871585285222,17.15353001032696,17.068043276548494,16.983398834557207,16.899584377783047,16.816587836673108,16.734397373050683,16.653001374633604,16.572388449706533,16.49254742194253,16.41346732536872,16.33513739947174,16.257547084438123,16.180686016525748,16.104544023562003,16.029111120564377,15.954377505480199,15.880333555041444,15.806969820730847,15.734277024856373,15.662246056730297,15.590867968949574,15.520133973775065,15.450035439605712,15.380563887545339,15.31171098805934,15.243468557717867,15.175828556023907,15.108783082322793,15.042324372791267]},\"selected\":{\"id\":\"6389\"},\"selection_policy\":{\"id\":\"6388\"}},\"id\":\"6363\",\"type\":\"ColumnDataSource\"},{\"attributes\":{},\"id\":\"6387\",\"type\":\"Selection\"},{\"attributes\":{\"line_alpha\":0.1,\"line_color\":\"rgb(174, 199, 232)\",\"line_width\":2,\"x\":{\"field\":\"extension\"},\"y\":{\"field\":\"force\"}},\"id\":\"6358\",\"type\":\"Line\"},{\"attributes\":{\"callback\":null,\"mode\":\"vline\",\"renderers\":[{\"id\":\"6351\"}],\"tooltips\":[[\"Force (N)\",\"@force{1.111}\"],[\"Extension (m)\",\"@extension{1.111}\"]]},\"id\":\"6353\",\"type\":\"HoverTool\"},{\"attributes\":{\"axis\":{\"id\":\"6336\"},\"dimension\":1,\"ticker\":null},\"id\":\"6339\",\"type\":\"Grid\"},{\"attributes\":{},\"id\":\"6382\",\"type\":\"BasicTickFormatter\"},{\"attributes\":{},\"id\":\"6341\",\"type\":\"PanTool\"},{\"attributes\":{\"line_alpha\":0.1,\"line_color\":\"rgb(31, 119, 180)\",\"line_width\":2,\"x\":{\"field\":\"extension\"},\"y\":{\"field\":\"force\"}},\"id\":\"6350\",\"type\":\"Line\"},{\"attributes\":{\"line_color\":\"rgb(31, 119, 180)\",\"line_width\":2,\"x\":{\"field\":\"extension\"},\"y\":{\"field\":\"force\"}},\"id\":\"6349\",\"type\":\"Line\"},{\"attributes\":{},\"id\":\"6340\",\"type\":\"SaveTool\"},{\"attributes\":{\"source\":{\"id\":\"6347\"}},\"id\":\"6352\",\"type\":\"CDSView\"},{\"attributes\":{},\"id\":\"6342\",\"type\":\"WheelZoomTool\"},{\"attributes\":{\"callback\":null,\"mode\":\"vline\",\"renderers\":[{\"id\":\"6367\"}],\"tooltips\":[[\"Force (N)\",\"@force{1.111}\"]]},\"id\":\"6369\",\"type\":\"HoverTool\"},{\"attributes\":{\"source\":{\"id\":\"6363\"}},\"id\":\"6368\",\"type\":\"CDSView\"},{\"attributes\":{},\"id\":\"6388\",\"type\":\"UnionRenderers\"},{\"attributes\":{\"label\":{\"value\":\"92.0 layers (0.01mm height)\"},\"renderers\":[{\"id\":\"6351\"}]},\"id\":\"6394\",\"type\":\"LegendItem\"},{\"attributes\":{\"data_source\":{\"id\":\"6355\"},\"glyph\":{\"id\":\"6357\"},\"hover_glyph\":null,\"muted_glyph\":null,\"nonselection_glyph\":{\"id\":\"6358\"},\"selection_glyph\":null,\"view\":{\"id\":\"6360\"}},\"id\":\"6359\",\"type\":\"GlyphRenderer\"},{\"attributes\":{\"data\":{\"coil_layers\":[\"23.0\",\"23.0\",\"23.0\",\"23.0\",\"23.0\",\"23.0\",\"23.0\",\"23.0\",\"23.0\",\"23.0\",\"23.0\",\"23.0\",\"23.0\",\"23.0\",\"23.0\",\"23.0\",\"23.0\",\"23.0\",\"23.0\",\"23.0\",\"23.0\",\"23.0\",\"23.0\",\"23.0\",\"23.0\",\"23.0\",\"23.0\",\"23.0\",\"23.0\",\"23.0\",\"23.0\",\"23.0\",\"23.0\",\"23.0\",\"23.0\",\"23.0\",\"23.0\",\"23.0\",\"23.0\",\"23.0\",\"23.0\",\"23.0\",\"23.0\",\"23.0\",\"23.0\",\"23.0\",\"23.0\",\"23.0\",\"23.0\",\"23.0\",\"23.0\",\"23.0\",\"23.0\",\"23.0\",\"23.0\",\"23.0\",\"23.0\",\"23.0\",\"23.0\",\"23.0\",\"23.0\",\"23.0\",\"23.0\",\"23.0\",\"23.0\",\"23.0\",\"23.0\",\"23.0\",\"23.0\",\"23.0\",\"23.0\",\"23.0\",\"23.0\",\"23.0\",\"23.0\",\"23.0\",\"23.0\",\"23.0\",\"23.0\",\"23.0\",\"23.0\",\"23.0\",\"23.0\",\"23.0\",\"23.0\",\"23.0\",\"23.0\",\"23.0\",\"23.0\",\"23.0\",\"23.0\",\"23.0\",\"23.0\",\"23.0\",\"23.0\",\"23.0\",\"23.0\",\"23.0\",\"23.0\",\"23.0\",\"23.0\",\"23.0\",\"23.0\",\"23.0\",\"23.0\",\"23.0\",\"23.0\",\"23.0\",\"23.0\",\"23.0\",\"23.0\",\"23.0\",\"23.0\",\"23.0\",\"23.0\",\"23.0\",\"23.0\",\"23.0\",\"23.0\",\"23.0\",\"23.0\",\"23.0\",\"23.0\",\"23.0\",\"23.0\",\"23.0\",\"23.0\",\"23.0\",\"23.0\",\"23.0\",\"23.0\",\"23.0\",\"23.0\",\"23.0\",\"23.0\",\"23.0\",\"23.0\",\"23.0\",\"23.0\",\"23.0\",\"23.0\",\"23.0\",\"23.0\",\"23.0\",\"23.0\",\"23.0\",\"23.0\",\"23.0\",\"23.0\",\"23.0\",\"23.0\"],\"extension\":[0.0,0.001,0.002,0.003,0.004,0.005,0.006,0.007,0.008,0.009000000000000001,0.01,0.011,0.012,0.013000000000000001,0.014,0.015,0.016,0.017,0.018000000000000002,0.019,0.02,0.021,0.022,0.023,0.024,0.025,0.026000000000000002,0.027,0.028,0.029,0.03,0.031,0.032,0.033,0.034,0.035,0.036000000000000004,0.037,0.038,0.039,0.04,0.041,0.042,0.043000000000000003,0.044,0.045,0.046,0.047,0.048,0.049,0.05,0.051000000000000004,0.052000000000000005,0.053,0.054,0.055,0.056,0.057,0.058,0.059000000000000004,0.06,0.061,0.062,0.063,0.064,0.065,0.066,0.067,0.068,0.069,0.07,0.07100000000000001,0.07200000000000001,0.073,0.074,0.075,0.076,0.077,0.078,0.079,0.08,0.081,0.082,0.083,0.084,0.085,0.08600000000000001,0.08700000000000001,0.088,0.089,0.09,0.091,0.092,0.093,0.094,0.095,0.096,0.097,0.098,0.099,0.1,0.101,0.10200000000000001,0.10300000000000001,0.10400000000000001,0.105,0.106,0.107,0.108,0.109,0.11,0.111,0.112,0.113,0.114,0.115,0.116,0.117,0.11800000000000001,0.11900000000000001,0.12,0.121,0.122,0.123,0.124,0.125,0.126,0.127,0.128,0.129,0.13,0.131,0.132,0.133,0.134,0.135,0.136,0.137,0.138,0.139,0.14,0.14100000000000001,0.14200000000000002,0.14300000000000002,0.14400000000000002,0.145,0.146,0.147,0.148,0.149,0.15],\"force\":[0.0,0.2916014443939396,0.575963405212018,0.8533463243244354,1.1239985770747856,1.3881571466306084,1.6460482547781479,1.8978879523114711,2.1438826719179254,2.384229746233916,2.6191178935365507,2.848727673345338,3.0732319140328146,3.2927961143821123,3.5075788208818213,3.717731982413064,3.9234012838592687,4.124726460054673,4.321841591382663,4.5148753822381735,4.703951423479802,4.88918843991503,5.0707005237867255,5.248597355159821,5.4229844100426865,5.59396315701886,5.761631243110274,5.926082669542734,6.087407958037782,6.245694308212638,6.401025746629348,6.553483267998269,6.70314496900655,6.850086175210948,6.994379561404945,7.136095265843349,7.275300998682065,7.412062144967716,7.546441862490185,7.678501174790666,7.808299059599682,7.935892532961741,8.061336729287056,8.184684977556657,8.305988873891568,8.425298350685344,8.542661742486017,8.658125848802765,8.771735994001451,8.883536084444009,8.993568663016978,9.101874961185873,9.208494948704153,9.313467381098127,9.416829845042153,9.518618801730977,9.618869628351755,9.717616657750332,9.81489321638278,9.910731660637069,10.005163411605226,10.098218988382024,10.189928039961988,10.280319375802389,10.369420995116684,10.457260114958611,10.543863197154511,10.629255974138731,10.71346347374237,10.796510042985352,10.878419370917209,10.959214510550536,11.03891789992869,11.117551382366875,11.19513622590439,11.271693142002697,11.197936483740719,11.12513314482547,11.05326486958559,10.982313862756842,10.912262775145743,10.843094689822534,10.774793108820358,10.707341940320203,10.64072548629971,10.574928430628411,10.509935827588892,10.44573309080762,10.382305982578067,10.319640603560087,10.257723382840329,10.196541068339327,10.136080717550561,10.076329688599548,10.017275631608612,9.95890648035666,9.901210444221457,9.844176000393679,9.787791886352414,9.732047092591351,9.676930855586482,9.622432650995988,9.568542187083523,9.51524939835602,9.46254443940856,9.410417678967901,9.358859694127657,9.307861264768164,9.257413368153406,9.207507173699492,9.158134037907681,9.109285499456384,9.060953274446117,9.01312925179205,8.965805488758823,8.918974206632384,8.872627786524513,8.826758765304564,8.781359831654555,8.736423822242985,8.691943718013627,8.647912640584552,8.604323848754497,8.561170735112311,8.518446822745977,8.476145762048066,8.434261327614358,8.392787415232043,8.35171803895516,8.311047328263841,8.270769525304814,8.230878982210479,8.19137015849379,8.152237618516695,8.113476029029577,8.075080156779537,8.03704486618498,7.99936511707476,7.962035962489658,7.925052546544011,7.888410102345905,7.852103949973942,7.816129494508568,7.780482224116838,7.74515770818826,7.710151595520522,7.675459612553689,7.641077561650926,7.607001319424637,7.573226835106726,7.539750128961231]},\"selected\":{\"id\":\"6391\"},\"selection_policy\":{\"id\":\"6390\"}},\"id\":\"6371\",\"type\":\"ColumnDataSource\"},{\"attributes\":{\"items\":[{\"id\":\"6394\"},{\"id\":\"6395\"},{\"id\":\"6396\"},{\"id\":\"6397\"}]},\"id\":\"6393\",\"type\":\"Legend\"},{\"attributes\":{\"data\":{\"coil_layers\":[\"69.0\",\"69.0\",\"69.0\",\"69.0\",\"69.0\",\"69.0\",\"69.0\",\"69.0\",\"69.0\",\"69.0\",\"69.0\",\"69.0\",\"69.0\",\"69.0\",\"69.0\",\"69.0\",\"69.0\",\"69.0\",\"69.0\",\"69.0\",\"69.0\",\"69.0\",\"69.0\",\"69.0\",\"69.0\",\"69.0\",\"69.0\",\"69.0\",\"69.0\",\"69.0\",\"69.0\",\"69.0\",\"69.0\",\"69.0\",\"69.0\",\"69.0\",\"69.0\",\"69.0\",\"69.0\",\"69.0\",\"69.0\",\"69.0\",\"69.0\",\"69.0\",\"69.0\",\"69.0\",\"69.0\",\"69.0\",\"69.0\",\"69.0\",\"69.0\",\"69.0\",\"69.0\",\"69.0\",\"69.0\",\"69.0\",\"69.0\",\"69.0\",\"69.0\",\"69.0\",\"69.0\",\"69.0\",\"69.0\",\"69.0\",\"69.0\",\"69.0\",\"69.0\",\"69.0\",\"69.0\",\"69.0\",\"69.0\",\"69.0\",\"69.0\",\"69.0\",\"69.0\",\"69.0\",\"69.0\",\"69.0\",\"69.0\",\"69.0\",\"69.0\",\"69.0\",\"69.0\",\"69.0\",\"69.0\",\"69.0\",\"69.0\",\"69.0\",\"69.0\",\"69.0\",\"69.0\",\"69.0\",\"69.0\",\"69.0\",\"69.0\",\"69.0\",\"69.0\",\"69.0\",\"69.0\",\"69.0\",\"69.0\",\"69.0\",\"69.0\",\"69.0\",\"69.0\",\"69.0\",\"69.0\",\"69.0\",\"69.0\",\"69.0\",\"69.0\",\"69.0\",\"69.0\",\"69.0\",\"69.0\",\"69.0\",\"69.0\",\"69.0\",\"69.0\",\"69.0\",\"69.0\",\"69.0\",\"69.0\",\"69.0\",\"69.0\",\"69.0\",\"69.0\",\"69.0\",\"69.0\",\"69.0\",\"69.0\",\"69.0\",\"69.0\",\"69.0\",\"69.0\",\"69.0\",\"69.0\",\"69.0\",\"69.0\",\"69.0\",\"69.0\",\"69.0\",\"69.0\",\"69.0\",\"69.0\",\"69.0\",\"69.0\",\"69.0\",\"69.0\",\"69.0\",\"69.0\"],\"extension\":[0.0,0.001,0.002,0.003,0.004,0.005,0.006,0.007,0.008,0.009000000000000001,0.01,0.011,0.012,0.013000000000000001,0.014,0.015,0.016,0.017,0.018000000000000002,0.019,0.02,0.021,0.022,0.023,0.024,0.025,0.026000000000000002,0.027,0.028,0.029,0.03,0.031,0.032,0.033,0.034,0.035,0.036000000000000004,0.037,0.038,0.039,0.04,0.041,0.042,0.043000000000000003,0.044,0.045,0.046,0.047,0.048,0.049,0.05,0.051000000000000004,0.052000000000000005,0.053,0.054,0.055,0.056,0.057,0.058,0.059000000000000004,0.06,0.061,0.062,0.063,0.064,0.065,0.066,0.067,0.068,0.069,0.07,0.07100000000000001,0.07200000000000001,0.073,0.074,0.075,0.076,0.077,0.078,0.079,0.08,0.081,0.082,0.083,0.084,0.085,0.08600000000000001,0.08700000000000001,0.088,0.089,0.09,0.091,0.092,0.093,0.094,0.095,0.096,0.097,0.098,0.099,0.1,0.101,0.10200000000000001,0.10300000000000001,0.10400000000000001,0.105,0.106,0.107,0.108,0.109,0.11,0.111,0.112,0.113,0.114,0.115,0.116,0.117,0.11800000000000001,0.11900000000000001,0.12,0.121,0.122,0.123,0.124,0.125,0.126,0.127,0.128,0.129,0.13,0.131,0.132,0.133,0.134,0.135,0.136,0.137,0.138,0.139,0.14,0.14100000000000001,0.14200000000000002,0.14300000000000002,0.14400000000000002,0.145,0.146,0.147,0.148,0.149,0.15],\"force\":[0.0,0.8368569385537861,1.6545819945234381,2.453786870851162,3.2350589694839087,3.998962510432103,4.74603959416515,5.476811210329457,6.191778195624868,6.891422143531369,7.57620626843902,8.24657622660136,8.902960896204762,9.545773118724695,10.175410403623964,10.792255598337196,11.396677525380959,11.989031588329079,12.569660348297678,13.138894072495003,13.697051256305691,14.244439120298718,14.781354083471665,15.308082213972538,15.824899658471036,16.332073051288017,16.829859904329957,17.318508978818336,17.79826063974939,18.269347193968482,18.731993212694807,19.186415839286926,19.63282508299606,20.07142409941381,20.502409458282383,20.9259713992996,21.342294076516417,21.751555791892653,22.153929218546626,22.54958161420494,22.938675025332582,23.321366482397305,23.69780818669819,24.068147689166242,24.43252806152268,24.791088060160604,25.14396228309672,25.491281320321722,25.833171897860755,26.169757015839348,26.501156080835138,26.82748503278119,27.148856466672985,27.46537974931878,27.77716113136078,28.084303854782185,28.386908256106334,28.685071865481437,28.97888950183684,29.26845336428635,29.553853119945632,29.835175988323137,30.112506822434995,30.38592818678858,30.655520432370523,30.921361768770478,31.1835283335637,31.442094259070828,31.69713173660723,31.94871107832893,32.19690077677707,32.44176756221787,32.68337645787129,32.92179083311596,33.15707245475504,33.3892815364234,33.17612840744617,32.965631934335356,32.75774362370283,32.5524161343745,32.34960324399621,32.14925981677233,31.951341772292817,31.75580605540767,31.562610607108045,31.37171433637628,31.183077092968134,30.996659641091767,30.81242363395026,30.630331589115148,30.450346864700045,30.272433636304946,30.096556874702685,29.922682324240363,29.750776481929396,29.58080657719965,29.412740552292945,29.246547043273466,29.082195361632696,28.919655476467522,28.758897997211076,28.599894156897186,28.44261579593922,28.287035346404963,28.13312581677105,27.98086077713935,27.830214344899833,27.68116117082445,27.533676425576832,27.38773578662405,27.24331542553635,27.10039199566226,26.958942620165256,26.818944880411365,26.680376804694586,26.543216857289394,26.407443927819905,26.273037320934254,26.139976746274897,26.008242308734737,25.87781449899018,25.74867418430131,25.62080259957134,25.494181338656553,25.36879234591871,25.244617908012174,25.121640645898584,24.99984350708097,24.879209758051772,24.75972297694633,24.641367046397146,24.52412614658106,24.407984748454535,24.292927607170615,24.178939755671845,24.066006498454353,23.954113405497168,23.84324630635225,23.733391284389896,23.6245346711953,23.516663041111368,23.409763205923323,23.303822209681375,23.198827323656612,23.09476604142694,22.991626074088384,22.889395345588987,22.788061988180733,22.6876143379868,22.58804093068071,22.48933049727339]},\"selected\":{\"id\":\"6387\"},\"selection_policy\":{\"id\":\"6386\"}},\"id\":\"6355\",\"type\":\"ColumnDataSource\"},{\"attributes\":{},\"id\":\"6389\",\"type\":\"Selection\"},{\"attributes\":{\"data_source\":{\"id\":\"6363\"},\"glyph\":{\"id\":\"6365\"},\"hover_glyph\":null,\"muted_glyph\":null,\"nonselection_glyph\":{\"id\":\"6366\"},\"selection_glyph\":null,\"view\":{\"id\":\"6368\"}},\"id\":\"6367\",\"type\":\"GlyphRenderer\"},{\"attributes\":{\"label\":{\"value\":\"69.0 layers (0.01mm height)\"},\"renderers\":[{\"id\":\"6359\"}]},\"id\":\"6395\",\"type\":\"LegendItem\"},{\"attributes\":{\"source\":{\"id\":\"6355\"}},\"id\":\"6360\",\"type\":\"CDSView\"},{\"attributes\":{\"line_color\":\"rgb(255, 127, 14)\",\"line_width\":2,\"x\":{\"field\":\"extension\"},\"y\":{\"field\":\"force\"}},\"id\":\"6365\",\"type\":\"Line\"},{\"attributes\":{\"callback\":null,\"mode\":\"vline\",\"renderers\":[{\"id\":\"6359\"}],\"tooltips\":[[\"Force (N)\",\"@force{1.111}\"]]},\"id\":\"6361\",\"type\":\"HoverTool\"},{\"attributes\":{\"callback\":null,\"mode\":\"vline\",\"renderers\":[{\"id\":\"6375\"}],\"tooltips\":[[\"Force (N)\",\"@force{1.111}\"]]},\"id\":\"6377\",\"type\":\"HoverTool\"}],\"root_ids\":[\"6321\"]},\"title\":\"Bokeh Application\",\"version\":\"2.1.1\"}};\n",
       "  var render_items = [{\"docid\":\"f6bf034d-f1aa-40a0-a48a-c0c209dc16bb\",\"root_ids\":[\"6321\"],\"roots\":{\"6321\":\"6c90ae6e-d745-4492-aa82-363a3819dc5d\"}}];\n",
       "  root.Bokeh.embed.embed_items_notebook(docs_json, render_items);\n",
       "\n",
       "  }\n",
       "  if (root.Bokeh !== undefined) {\n",
       "    embed_document(root);\n",
       "  } else {\n",
       "    var attempts = 0;\n",
       "    var timer = setInterval(function(root) {\n",
       "      if (root.Bokeh !== undefined) {\n",
       "        clearInterval(timer);\n",
       "        embed_document(root);\n",
       "      } else {\n",
       "        attempts++;\n",
       "        if (attempts > 100) {\n",
       "          clearInterval(timer);\n",
       "          console.log(\"Bokeh: ERROR: Unable to run BokehJS code because BokehJS library is missing\");\n",
       "        }\n",
       "      }\n",
       "    }, 10, root)\n",
       "  }\n",
       "})(window);"
      ],
      "application/vnd.bokehjs_exec.v0+json": ""
     },
     "metadata": {
      "application/vnd.bokehjs_exec.v0+json": {
       "id": "6321"
      }
     },
     "output_type": "display_data"
    }
   ],
   "source": [
    "p.explore_actuator_force()\n",
    "\n",
    "# Source of equations https://core.ac.uk/download/pdf/9554327.pdf page 14\n",
    "# https://danielteodesigntechnology.wordpress.com/theoretical/supplement-lorentz-force-actuation/"
   ]
  },
  {
   "cell_type": "markdown",
   "metadata": {
    "slideshow": {
     "slide_type": "skip"
    }
   },
   "source": [
    "### Playground"
   ]
  },
  {
   "cell_type": "code",
   "execution_count": 30,
   "metadata": {
    "slideshow": {
     "slide_type": "skip"
    }
   },
   "outputs": [],
   "source": [
    "coil.set_wire_d(1.0, unit='mm')\n",
    "\n",
    "coil.set_layer_count(14)\n",
    "# OR\n",
    "#  coil.set_layer_height(14.0, unit='mm')\n",
    "#  this will automatically calculate layer count"
   ]
  },
  {
   "cell_type": "markdown",
   "metadata": {
    "slideshow": {
     "slide_type": "skip"
    }
   },
   "source": [
    "Electrical Properties"
   ]
  },
  {
   "cell_type": "code",
   "execution_count": 31,
   "metadata": {
    "slideshow": {
     "slide_type": "skip"
    }
   },
   "outputs": [
    {
     "data": {
      "application/vnd.jupyter.widget-view+json": {
       "model_id": "08cd4c87e60b4b9798b1ebe5383ed748",
       "version_major": 2,
       "version_minor": 0
      },
      "text/plain": [
       "HTML(value='Max Parameters:<br/>V=7.65951705V <br/>I=1.96A <br/>R=3.9009600000Ω <br/>P=15.04W', layout=Layout(…"
      ]
     },
     "metadata": {},
     "output_type": "display_data"
    }
   ],
   "source": [
    "I, R = coil.current, coil.resistance; V = I * R\n",
    "p.out(u\"Max Parameters:\\n\"\n",
    "       \"V=%0.8fV \\n\"\n",
    "       \"I=%0.2fA \\n\"\n",
    "       \"R=%0.10f\\u2126 \\n\"\n",
    "       \"P=%0.2fW\" % (V, I, R, V*I))"
   ]
  },
  {
   "cell_type": "markdown",
   "metadata": {
    "slideshow": {
     "slide_type": "skip"
    }
   },
   "source": [
    "Physical Properties"
   ]
  },
  {
   "cell_type": "code",
   "execution_count": 32,
   "metadata": {
    "slideshow": {
     "slide_type": "skip"
    }
   },
   "outputs": [
    {
     "data": {
      "application/vnd.jupyter.widget-view+json": {
       "model_id": "a1d27004a04d4254926476a2efe46386",
       "version_major": 2,
       "version_minor": 0
      },
      "text/plain": [
       "HTML(value='wire diameter=1.00mm <br/>coil mass=1.25kg <br/>coil length=0.1m <br/>coil OD=49.00mm <br/>number …"
      ]
     },
     "metadata": {},
     "output_type": "display_data"
    }
   ],
   "source": [
    "wire_d, coil_m, coil_L, coil_h, N_turns = coil.get_wire_d(unit='mm'), \\\n",
    "                                          coil.get_mass(unit='kg'), \\\n",
    "                                          coil.get_length(unit='m'), \\\n",
    "                                          coil.get_height(unit=\"mm\"), \\\n",
    "                                          coil.get_number_of_turns()\n",
    "p.out(\"wire diameter=%.2fmm \\n\"\n",
    "      \"coil mass=%.2fkg \\n\"\n",
    "      \"coil length=%.1fm \\n\"\n",
    "      \"coil OD=%.2fmm \\n\"\n",
    "      \"number of turns=%.0f\"% (wire_d, coil_m, coil_L, coil_h*2 + tube.OD*1000, N_turns))"
   ]
  },
  {
   "cell_type": "markdown",
   "metadata": {
    "slideshow": {
     "slide_type": "skip"
    }
   },
   "source": [
    "Force of actuator, represented as the vector (magnitude, direction) in the axis of travel."
   ]
  },
  {
   "cell_type": "code",
   "execution_count": 43,
   "metadata": {
    "slideshow": {
     "slide_type": "skip"
    }
   },
   "outputs": [
    {
     "name": "stdout",
     "output_type": "stream",
     "text": [
      "x=0.000m, F=7.576 (7.576, 7.576)\n",
      "x=0.008m, F=7.601 (7.601, 6.081)\n",
      "x=0.017m, F=7.619 (7.619, 4.849)\n",
      "x=0.025m, F=7.633 (7.633, 3.817)\n",
      "x=0.033m, F=7.644 (7.644, 2.940)\n",
      "x=0.042m, F=7.653 (7.653, 2.187)\n",
      "x=0.050m, F=7.660 (7.660, 1.532)\n",
      "x=0.058m, F=7.666 (7.666, 0.958)\n",
      "x=0.067m, F=7.671 (7.671, 0.451)\n",
      "x=0.075m, F=7.675 (7.675, 0.000)\n",
      "x=0.083m, F=7.679 (7.679, -0.404)\n",
      "x=0.092m, F=7.682 (7.682, -0.768)\n",
      "x=0.100m, F=7.684 (7.684, -1.098)\n",
      "x=0.108m, F=7.686 (7.686, -1.398)\n",
      "x=0.117m, F=7.688 (7.688, -1.671)\n",
      "x=0.125m, F=7.690 (7.690, -1.922)\n",
      "x=0.133m, F=7.691 (7.691, -2.154)\n",
      "x=0.142m, F=7.693 (7.693, -2.367)\n",
      "x=0.150m, F=7.694 (7.694, -2.565)\n"
     ]
    }
   ],
   "source": [
    "samples = 19# how many data points over the stroke of the actuator\n",
    "for z in [(x/(samples-1))*tube.effective_length for x in range(0, samples, 1)]:\n",
    "    print(\"x=%.3fm,\" % z, end=' F=')\n",
    "#     Bmag = 1.241  #  N38 Neodydlium magnet\n",
    "    Bmag = 1.35 #  N42 Neodydlium magnet\n",
    "    Bsol_z = coil.calculate_magnetic_field(_coil_layers=coil.layer_count, z=z)\n",
    "\n",
    "    d = tube.ID\n",
    "    A = math.pi*pow(d/2 + (tube.OD - tube.ID)/2 + 0.001, 2)\n",
    "    mu = 4.0 * math.pi * pow(10, -7)\n",
    "\n",
    "    f_z = (Bsol_z[0] + (Bsol_z[1])) * Bmag * A / mu\n",
    "    print(\"%.3f\" % f_z, end=' ')  # resolved\n",
    "    print(\"(%.3f, %.3f)\" % (Bsol_z[0] * Bmag * A / mu, Bsol_z[1] * Bmag * A / mu))  # components"
   ]
  },
  {
   "cell_type": "code",
   "execution_count": null,
   "metadata": {},
   "outputs": [],
   "source": [
    "F = coil.number_of_turns * 3.1415 * coil.avg_D * 0.25 * 2\n",
    "p.out(\"force=%.2fN \\n\"\n",
    "      \"number of turns=%.0f \\n\"\n",
    "      \"coil avg D=%.1fmm \\n\" % (F, coil.number_of_turns, coil.avg_D*1000))"
   ]
  },
  {
   "cell_type": "code",
   "execution_count": 25,
   "metadata": {},
   "outputs": [],
   "source": [
    "coil.calculate_magnetic_field??"
   ]
  },
  {
   "cell_type": "code",
   "execution_count": null,
   "metadata": {},
   "outputs": [],
   "source": []
  }
 ],
 "metadata": {
  "kernelspec": {
   "display_name": "Python 3",
   "language": "python",
   "name": "python3"
  },
  "language_info": {
   "codemirror_mode": {
    "name": "ipython",
    "version": 3
   },
   "file_extension": ".py",
   "mimetype": "text/x-python",
   "name": "python",
   "nbconvert_exporter": "python",
   "pygments_lexer": "ipython3",
   "version": "3.8.5"
  },
  "toc": {
   "base_numbering": 1,
   "nav_menu": {},
   "number_sections": true,
   "sideBar": true,
   "skip_h1_title": false,
   "title_cell": "Table of Contents",
   "title_sidebar": "Contents",
   "toc_cell": false,
   "toc_position": {
    "height": "calc(100% - 180px)",
    "left": "10px",
    "top": "150px",
    "width": "219px"
   },
   "toc_section_display": true,
   "toc_window_display": false
  }
 },
 "nbformat": 4,
 "nbformat_minor": 2
}
