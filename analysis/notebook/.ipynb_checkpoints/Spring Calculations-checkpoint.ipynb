{
 "cells": [
  {
   "cell_type": "code",
   "execution_count": 17,
   "metadata": {},
   "outputs": [],
   "source": [
    "# robot & global params\n",
    "\n",
    "m = 4\n",
    "g = 9.81"
   ]
  },
  {
   "cell_type": "code",
   "execution_count": 18,
   "metadata": {},
   "outputs": [
    {
     "data": {
      "text/plain": [
       "0.2570846075433231"
      ]
     },
     "execution_count": 18,
     "metadata": {},
     "output_type": "execute_result"
    }
   ],
   "source": [
    "# https://catalog.lesjoforsab.com/cs-2x16x145\n",
    "\n",
    "L0 = 145*10**-3\n",
    "Ln = 48*10**-3\n",
    "Fn = 208\n",
    "k = Fn /(L0-Ln)\n",
    "h = (L0-Ln)**2*0.5*k/(m*g)\n",
    "h"
   ]
  },
  {
   "cell_type": "code",
   "execution_count": 23,
   "metadata": {},
   "outputs": [
    {
     "data": {
      "text/plain": [
       "0.175203873598369"
      ]
     },
     "execution_count": 23,
     "metadata": {},
     "output_type": "execute_result"
    }
   ],
   "source": [
    "# https://catalog.lesjoforsab.com/cs-1-6x16x165\n",
    "\n",
    "L0 = 165*10**-3\n",
    "Ln = 40*10**-3\n",
    "Fn = 110\n",
    "k = Fn /(L0-Ln)\n",
    "h = (L0-Ln)**2*0.5*k/(m*g)\n",
    "h"
   ]
  },
  {
   "cell_type": "code",
   "execution_count": null,
   "metadata": {},
   "outputs": [],
   "source": []
  }
 ],
 "metadata": {
  "kernelspec": {
   "display_name": "Python 3",
   "language": "python",
   "name": "python3"
  },
  "language_info": {
   "codemirror_mode": {
    "name": "ipython",
    "version": 3
   },
   "file_extension": ".py",
   "mimetype": "text/x-python",
   "name": "python",
   "nbconvert_exporter": "python",
   "pygments_lexer": "ipython3",
   "version": "3.7.5"
  }
 },
 "nbformat": 4,
 "nbformat_minor": 2
}
